{
 "cells": [
  {
   "cell_type": "markdown",
   "metadata": {},
   "source": [
    "# Market of public catering establishments in Moscow"
   ]
  },
  {
   "cell_type": "markdown",
   "metadata": {},
   "source": [
    "It is planned to open a new restaurant in Moscow, the waiters will be robots. The project has potential, but it is also expensive. For financing it is necessary to attract investors.\n",
    "\n",
    "The purpose of the study: to analyze the situation in the public catering market in Moscow for potential project investors.\n",
    "\n",
    "Available data: data from open sources on public catering establishments in Moscow.\n",
    "\n",
    "Work plan:\n",
    "1. Acquaintance with the available data.\n",
    "2. Data preprocessing if necessary.\n",
    "3. Data analysis.\n",
    "4. Conclusions and recommendations on a potential restaurant, further development of the chain.\n",
    "5. Preparing a presentation for investors."
   ]
  },
  {
   "cell_type": "markdown",
   "metadata": {},
   "source": [
    "<a class=\"anchor\" id=\"first-bullet\"></a>\n",
    "## Data Acquaintance"
   ]
  },
  {
   "cell_type": "code",
   "execution_count": 1,
   "metadata": {},
   "outputs": [],
   "source": [
    "import pandas as pd\n",
    "import matplotlib.pyplot as plt\n",
    "import seaborn as sns\n",
    "import numpy as np"
   ]
  },
  {
   "cell_type": "code",
   "execution_count": 2,
   "metadata": {},
   "outputs": [
    {
     "data": {
      "text/html": [
       "<div>\n",
       "<style scoped>\n",
       "    .dataframe tbody tr th:only-of-type {\n",
       "        vertical-align: middle;\n",
       "    }\n",
       "\n",
       "    .dataframe tbody tr th {\n",
       "        vertical-align: top;\n",
       "    }\n",
       "\n",
       "    .dataframe thead th {\n",
       "        text-align: right;\n",
       "    }\n",
       "</style>\n",
       "<table border=\"1\" class=\"dataframe\">\n",
       "  <thead>\n",
       "    <tr style=\"text-align: right;\">\n",
       "      <th></th>\n",
       "      <th>id</th>\n",
       "      <th>object_name</th>\n",
       "      <th>chain</th>\n",
       "      <th>object_type</th>\n",
       "      <th>address</th>\n",
       "      <th>number</th>\n",
       "    </tr>\n",
       "  </thead>\n",
       "  <tbody>\n",
       "    <tr>\n",
       "      <th>0</th>\n",
       "      <td>151635</td>\n",
       "      <td>СМЕТАНА</td>\n",
       "      <td>нет</td>\n",
       "      <td>кафе</td>\n",
       "      <td>город Москва, улица Егора Абакумова, дом 9</td>\n",
       "      <td>48</td>\n",
       "    </tr>\n",
       "    <tr>\n",
       "      <th>1</th>\n",
       "      <td>77874</td>\n",
       "      <td>Родник</td>\n",
       "      <td>нет</td>\n",
       "      <td>кафе</td>\n",
       "      <td>город Москва, улица Талалихина, дом 2/1, корпус 1</td>\n",
       "      <td>35</td>\n",
       "    </tr>\n",
       "    <tr>\n",
       "      <th>2</th>\n",
       "      <td>24309</td>\n",
       "      <td>Кафе «Академия»</td>\n",
       "      <td>нет</td>\n",
       "      <td>кафе</td>\n",
       "      <td>город Москва, Абельмановская улица, дом 6</td>\n",
       "      <td>95</td>\n",
       "    </tr>\n",
       "    <tr>\n",
       "      <th>3</th>\n",
       "      <td>21894</td>\n",
       "      <td>ПИЦЦЕТОРИЯ</td>\n",
       "      <td>да</td>\n",
       "      <td>кафе</td>\n",
       "      <td>город Москва, Абрамцевская улица, дом 1</td>\n",
       "      <td>40</td>\n",
       "    </tr>\n",
       "    <tr>\n",
       "      <th>4</th>\n",
       "      <td>119365</td>\n",
       "      <td>Кафе «Вишневая метель»</td>\n",
       "      <td>нет</td>\n",
       "      <td>кафе</td>\n",
       "      <td>город Москва, Абрамцевская улица, дом 9, корпус 1</td>\n",
       "      <td>50</td>\n",
       "    </tr>\n",
       "    <tr>\n",
       "      <th>5</th>\n",
       "      <td>27429</td>\n",
       "      <td>СТОЛ. ПРИ ГОУ СОШ № 1051</td>\n",
       "      <td>нет</td>\n",
       "      <td>столовая</td>\n",
       "      <td>город Москва, Абрамцевская улица, дом 15, корп...</td>\n",
       "      <td>240</td>\n",
       "    </tr>\n",
       "    <tr>\n",
       "      <th>6</th>\n",
       "      <td>148815</td>\n",
       "      <td>Брусника</td>\n",
       "      <td>да</td>\n",
       "      <td>кафе</td>\n",
       "      <td>город Москва, переулок Сивцев Вражек, дом 6/2</td>\n",
       "      <td>10</td>\n",
       "    </tr>\n",
       "    <tr>\n",
       "      <th>7</th>\n",
       "      <td>20957</td>\n",
       "      <td>Буфет МТУСИ</td>\n",
       "      <td>нет</td>\n",
       "      <td>столовая</td>\n",
       "      <td>город Москва, Авиамоторная улица, дом 8, строе...</td>\n",
       "      <td>90</td>\n",
       "    </tr>\n",
       "    <tr>\n",
       "      <th>8</th>\n",
       "      <td>20958</td>\n",
       "      <td>КПФ СЕМЬЯ-1</td>\n",
       "      <td>нет</td>\n",
       "      <td>столовая</td>\n",
       "      <td>город Москва, Авиамоторная улица, дом 8, строе...</td>\n",
       "      <td>150</td>\n",
       "    </tr>\n",
       "    <tr>\n",
       "      <th>9</th>\n",
       "      <td>28858</td>\n",
       "      <td>Столовая МТУСИ</td>\n",
       "      <td>нет</td>\n",
       "      <td>столовая</td>\n",
       "      <td>город Москва, Авиамоторная улица, дом 8, строе...</td>\n",
       "      <td>120</td>\n",
       "    </tr>\n",
       "  </tbody>\n",
       "</table>\n",
       "</div>"
      ],
      "text/plain": [
       "       id               object_name chain object_type  \\\n",
       "0  151635                   СМЕТАНА   нет        кафе   \n",
       "1   77874                    Родник   нет        кафе   \n",
       "2   24309           Кафе «Академия»   нет        кафе   \n",
       "3   21894                ПИЦЦЕТОРИЯ    да        кафе   \n",
       "4  119365    Кафе «Вишневая метель»   нет        кафе   \n",
       "5   27429  СТОЛ. ПРИ ГОУ СОШ № 1051   нет    столовая   \n",
       "6  148815                  Брусника    да        кафе   \n",
       "7   20957               Буфет МТУСИ   нет    столовая   \n",
       "8   20958               КПФ СЕМЬЯ-1   нет    столовая   \n",
       "9   28858            Столовая МТУСИ   нет    столовая   \n",
       "\n",
       "                                             address  number  \n",
       "0         город Москва, улица Егора Абакумова, дом 9      48  \n",
       "1  город Москва, улица Талалихина, дом 2/1, корпус 1      35  \n",
       "2          город Москва, Абельмановская улица, дом 6      95  \n",
       "3            город Москва, Абрамцевская улица, дом 1      40  \n",
       "4  город Москва, Абрамцевская улица, дом 9, корпус 1      50  \n",
       "5  город Москва, Абрамцевская улица, дом 15, корп...     240  \n",
       "6      город Москва, переулок Сивцев Вражек, дом 6/2      10  \n",
       "7  город Москва, Авиамоторная улица, дом 8, строе...      90  \n",
       "8  город Москва, Авиамоторная улица, дом 8, строе...     150  \n",
       "9  город Москва, Авиамоторная улица, дом 8, строе...     120  "
      ]
     },
     "execution_count": 2,
     "metadata": {},
     "output_type": "execute_result"
    }
   ],
   "source": [
    "rest_data = pd.read_csv('/datasets/rest_data.csv')\n",
    "rest_data.head(10)"
   ]
  },
  {
   "cell_type": "code",
   "execution_count": 3,
   "metadata": {},
   "outputs": [
    {
     "name": "stdout",
     "output_type": "stream",
     "text": [
      "<class 'pandas.core.frame.DataFrame'>\n",
      "RangeIndex: 15366 entries, 0 to 15365\n",
      "Data columns (total 6 columns):\n",
      " #   Column       Non-Null Count  Dtype \n",
      "---  ------       --------------  ----- \n",
      " 0   id           15366 non-null  int64 \n",
      " 1   object_name  15366 non-null  object\n",
      " 2   chain        15366 non-null  object\n",
      " 3   object_type  15366 non-null  object\n",
      " 4   address      15366 non-null  object\n",
      " 5   number       15366 non-null  int64 \n",
      "dtypes: int64(2), object(4)\n",
      "memory usage: 720.4+ KB\n"
     ]
    }
   ],
   "source": [
    "rest_data.info()"
   ]
  },
  {
   "cell_type": "markdown",
   "metadata": {},
   "source": [
    "The available data is a table with restaurant ID, name, chain, type of establishment, address and number of seats."
   ]
  },
  {
   "cell_type": "markdown",
   "metadata": {},
   "source": [
    "## Data preprocessing"
   ]
  },
  {
   "cell_type": "code",
   "execution_count": 4,
   "metadata": {},
   "outputs": [
    {
     "data": {
      "text/plain": [
       "id             0\n",
       "object_name    0\n",
       "chain          0\n",
       "object_type    0\n",
       "address        0\n",
       "number         0\n",
       "dtype: int64"
      ]
     },
     "execution_count": 4,
     "metadata": {},
     "output_type": "execute_result"
    }
   ],
   "source": [
    "rest_data.isna().sum()"
   ]
  },
  {
   "cell_type": "code",
   "execution_count": 5,
   "metadata": {},
   "outputs": [
    {
     "data": {
      "text/plain": [
       "82"
      ]
     },
     "execution_count": 5,
     "metadata": {},
     "output_type": "execute_result"
    }
   ],
   "source": [
    "rest_data.duplicated(subset=['object_name', 'address', 'chain', 'object_type', 'number']).sum()"
   ]
  },
  {
   "cell_type": "code",
   "execution_count": 6,
   "metadata": {},
   "outputs": [
    {
     "name": "stdout",
     "output_type": "stream",
     "text": [
      "<class 'pandas.core.frame.DataFrame'>\n",
      "Int64Index: 15284 entries, 0 to 15365\n",
      "Data columns (total 6 columns):\n",
      " #   Column       Non-Null Count  Dtype \n",
      "---  ------       --------------  ----- \n",
      " 0   id           15284 non-null  int64 \n",
      " 1   object_name  15284 non-null  object\n",
      " 2   chain        15284 non-null  object\n",
      " 3   object_type  15284 non-null  object\n",
      " 4   address      15284 non-null  object\n",
      " 5   number       15284 non-null  int64 \n",
      "dtypes: int64(2), object(4)\n",
      "memory usage: 835.8+ KB\n"
     ]
    }
   ],
   "source": [
    "rest_data = rest_data.drop_duplicates(subset=['object_name', 'address', 'chain', 'object_type', 'number'])\n",
    "rest_data.info()"
   ]
  },
  {
   "cell_type": "code",
   "execution_count": 7,
   "metadata": {},
   "outputs": [
    {
     "data": {
      "text/plain": [
       "array(['кафе', 'столовая', 'закусочная',\n",
       "       'предприятие быстрого обслуживания', 'ресторан', 'кафетерий',\n",
       "       'буфет', 'бар', 'магазин (отдел кулинарии)'], dtype=object)"
      ]
     },
     "execution_count": 7,
     "metadata": {},
     "output_type": "execute_result"
    }
   ],
   "source": [
    "rest_data['object_type'].unique()"
   ]
  },
  {
   "cell_type": "code",
   "execution_count": 8,
   "metadata": {},
   "outputs": [
    {
     "data": {
      "text/plain": [
       "array(['сметана', 'родник', 'кафе «академия»', ..., 'бар мята lounge',\n",
       "       'мята lounge октябрьская', 'кальянная «мята lounge»'], dtype=object)"
      ]
     },
     "execution_count": 8,
     "metadata": {},
     "output_type": "execute_result"
    }
   ],
   "source": [
    "rest_data['object_name'] = rest_data['object_name'].str.lower()\n",
    "rest_data['object_name'].unique()"
   ]
  },
  {
   "cell_type": "code",
   "execution_count": 9,
   "metadata": {},
   "outputs": [
    {
     "data": {
      "text/plain": [
       "array(['кафе', 'столовая', 'закусочная', 'фаст-фуд', 'ресторан',\n",
       "       'кафетерий', 'буфет', 'бар', 'отдел кулинарии'], dtype=object)"
      ]
     },
     "execution_count": 9,
     "metadata": {},
     "output_type": "execute_result"
    }
   ],
   "source": [
    "new_name = {'предприятие быстрого обслуживания':'фаст-фуд', 'магазин (отдел кулинарии)':'отдел кулинарии'}\n",
    "rest_data.replace(new_name, inplace=True)\n",
    "rest_data['object_type'].unique()"
   ]
  },
  {
   "cell_type": "markdown",
   "metadata": {},
   "source": [
    "Все столбцы таблицы нужного типа данных, были удалены явные дубликаты. Явные дубликаты в таблице не обнаружены, пропуски также отсутствуют. Для удобства построения графиков также была заменена чать наименований типов объектов питания. "
   ]
  },
  {
   "cell_type": "markdown",
   "metadata": {},
   "source": [
    "## Data analysis"
   ]
  },
  {
   "cell_type": "markdown",
   "metadata": {},
   "source": [
    "### The ratio of types of public catering facilities by number"
   ]
  },
  {
   "cell_type": "code",
   "execution_count": 10,
   "metadata": {},
   "outputs": [
    {
     "data": {
      "text/html": [
       "<div>\n",
       "<style scoped>\n",
       "    .dataframe tbody tr th:only-of-type {\n",
       "        vertical-align: middle;\n",
       "    }\n",
       "\n",
       "    .dataframe tbody tr th {\n",
       "        vertical-align: top;\n",
       "    }\n",
       "\n",
       "    .dataframe thead th {\n",
       "        text-align: right;\n",
       "    }\n",
       "</style>\n",
       "<table border=\"1\" class=\"dataframe\">\n",
       "  <thead>\n",
       "    <tr style=\"text-align: right;\">\n",
       "      <th></th>\n",
       "      <th>Тип объекта</th>\n",
       "      <th>Количество объектов</th>\n",
       "      <th>Доля</th>\n",
       "    </tr>\n",
       "  </thead>\n",
       "  <tbody>\n",
       "    <tr>\n",
       "      <th>3</th>\n",
       "      <td>кафе</td>\n",
       "      <td>6071</td>\n",
       "      <td>39.721277</td>\n",
       "    </tr>\n",
       "    <tr>\n",
       "      <th>7</th>\n",
       "      <td>столовая</td>\n",
       "      <td>2584</td>\n",
       "      <td>16.906569</td>\n",
       "    </tr>\n",
       "    <tr>\n",
       "      <th>6</th>\n",
       "      <td>ресторан</td>\n",
       "      <td>2282</td>\n",
       "      <td>14.930646</td>\n",
       "    </tr>\n",
       "    <tr>\n",
       "      <th>8</th>\n",
       "      <td>фаст-фуд</td>\n",
       "      <td>1898</td>\n",
       "      <td>12.418215</td>\n",
       "    </tr>\n",
       "    <tr>\n",
       "      <th>0</th>\n",
       "      <td>бар</td>\n",
       "      <td>855</td>\n",
       "      <td>5.594085</td>\n",
       "    </tr>\n",
       "    <tr>\n",
       "      <th>1</th>\n",
       "      <td>буфет</td>\n",
       "      <td>577</td>\n",
       "      <td>3.775190</td>\n",
       "    </tr>\n",
       "    <tr>\n",
       "      <th>4</th>\n",
       "      <td>кафетерий</td>\n",
       "      <td>395</td>\n",
       "      <td>2.584402</td>\n",
       "    </tr>\n",
       "    <tr>\n",
       "      <th>2</th>\n",
       "      <td>закусочная</td>\n",
       "      <td>349</td>\n",
       "      <td>2.283434</td>\n",
       "    </tr>\n",
       "    <tr>\n",
       "      <th>5</th>\n",
       "      <td>отдел кулинарии</td>\n",
       "      <td>273</td>\n",
       "      <td>1.786182</td>\n",
       "    </tr>\n",
       "  </tbody>\n",
       "</table>\n",
       "</div>"
      ],
      "text/plain": [
       "       Тип объекта  Количество объектов       Доля\n",
       "3             кафе                 6071  39.721277\n",
       "7         столовая                 2584  16.906569\n",
       "6         ресторан                 2282  14.930646\n",
       "8         фаст-фуд                 1898  12.418215\n",
       "0              бар                  855   5.594085\n",
       "1            буфет                  577   3.775190\n",
       "4        кафетерий                  395   2.584402\n",
       "2       закусочная                  349   2.283434\n",
       "5  отдел кулинарии                  273   1.786182"
      ]
     },
     "execution_count": 10,
     "metadata": {},
     "output_type": "execute_result"
    }
   ],
   "source": [
    "chart = rest_data.groupby('object_type').count().reset_index()\n",
    "sum = chart['id'].sum()\n",
    "chart['share'] = chart['id'] / sum * 100\n",
    "chart[['object_type', 'id', 'share']].sort_values(by='id').sort_values(by='id', ascending=False).rename(\n",
    "    columns={'id':'Количество объектов','object_type':'Тип объекта', 'share':'Доля'}) "
   ]
  },
  {
   "cell_type": "code",
   "execution_count": 11,
   "metadata": {},
   "outputs": [
    {
     "data": {
      "image/png": "[encoded data removed]",
      "text/plain": [
       "<Figure size 432x288 with 1 Axes>"
      ]
     },
     "metadata": {
      "needs_background": "light"
     },
     "output_type": "display_data"
    }
   ],
   "source": [
    "chart = rest_data.groupby('object_type').count().reset_index()\n",
    "ax = sns.barplot(x='object_name', y='object_type', data=chart\n",
    "                 .sort_values(by='number', ascending=False), color = 'blue')\n",
    "plt.ylabel('Количество объектов', size=15)\n",
    "plt.xlabel('Тип объекта', size=15)\n",
    "plt.title('Соотношение видов объектов общественного питания по количеству', size=15)\n",
    "plt.show()"
   ]
  },
  {
   "cell_type": "markdown",
   "metadata": {},
   "source": [
    "Among all public catering establishments, cafes account for the largest number - 39.7% (6071 establishments). Canteens (16.9%) and restaurants (14.9%) are far behind in the 2nd and 3rd places. Another 12.4% falls on fast food (quick service establishments). The share of other types of catering establishments does not exceed 6%."
   ]
  },
  {
   "cell_type": "markdown",
   "metadata": {},
   "source": [
    "### The ratio of chain and non-chain establishments by number"
   ]
  },
  {
   "cell_type": "code",
   "execution_count": 12,
   "metadata": {},
   "outputs": [
    {
     "data": {
      "text/plain": [
       "chain\n",
       "да      2964\n",
       "нет    12320\n",
       "Name: id, dtype: int64"
      ]
     },
     "execution_count": 12,
     "metadata": {},
     "output_type": "execute_result"
    }
   ],
   "source": [
    "chain_table = rest_data.groupby('chain')['id'].count()\n",
    "chain_table"
   ]
  },
  {
   "cell_type": "code",
   "execution_count": 13,
   "metadata": {},
   "outputs": [
    {
     "data": {
      "image/png": "[encoded data removed]",
      "text/plain": [
       "<Figure size 432x288 with 1 Axes>"
      ]
     },
     "metadata": {},
     "output_type": "display_data"
    }
   ],
   "source": [
    "labels = ['сетевые', 'несетевые']\n",
    "colors = sns.color_palette('pastel')[0:5]\n",
    "plt.pie(chain_table, labels = labels, colors = colors, autopct='%.0f%%')\n",
    "plt.show()"
   ]
  },
  {
   "cell_type": "markdown",
   "metadata": {},
   "source": [
    "The share of non-chain establishments accounts for more than 81%, the share of network establishments is only 19%."
   ]
  },
  {
   "cell_type": "markdown",
   "metadata": {},
   "source": [
    "### What type of public catering facility is characterized by network distribution?"
   ]
  },
  {
   "cell_type": "code",
   "execution_count": 14,
   "metadata": {},
   "outputs": [
    {
     "data": {
      "text/html": [
       "<div>\n",
       "<style scoped>\n",
       "    .dataframe tbody tr th:only-of-type {\n",
       "        vertical-align: middle;\n",
       "    }\n",
       "\n",
       "    .dataframe tbody tr th {\n",
       "        vertical-align: top;\n",
       "    }\n",
       "\n",
       "    .dataframe thead th {\n",
       "        text-align: right;\n",
       "    }\n",
       "</style>\n",
       "<table border=\"1\" class=\"dataframe\">\n",
       "  <thead>\n",
       "    <tr style=\"text-align: right;\">\n",
       "      <th></th>\n",
       "      <th>Тип объекта</th>\n",
       "      <th>Количество</th>\n",
       "      <th>Доля</th>\n",
       "    </tr>\n",
       "  </thead>\n",
       "  <tbody>\n",
       "    <tr>\n",
       "      <th>3</th>\n",
       "      <td>кафе</td>\n",
       "      <td>1396</td>\n",
       "      <td>47.098516</td>\n",
       "    </tr>\n",
       "    <tr>\n",
       "      <th>8</th>\n",
       "      <td>фаст-фуд</td>\n",
       "      <td>788</td>\n",
       "      <td>26.585695</td>\n",
       "    </tr>\n",
       "    <tr>\n",
       "      <th>6</th>\n",
       "      <td>ресторан</td>\n",
       "      <td>543</td>\n",
       "      <td>18.319838</td>\n",
       "    </tr>\n",
       "    <tr>\n",
       "      <th>5</th>\n",
       "      <td>отдел кулинарии</td>\n",
       "      <td>78</td>\n",
       "      <td>2.631579</td>\n",
       "    </tr>\n",
       "    <tr>\n",
       "      <th>2</th>\n",
       "      <td>закусочная</td>\n",
       "      <td>56</td>\n",
       "      <td>1.889339</td>\n",
       "    </tr>\n",
       "    <tr>\n",
       "      <th>4</th>\n",
       "      <td>кафетерий</td>\n",
       "      <td>52</td>\n",
       "      <td>1.754386</td>\n",
       "    </tr>\n",
       "    <tr>\n",
       "      <th>0</th>\n",
       "      <td>бар</td>\n",
       "      <td>37</td>\n",
       "      <td>1.248313</td>\n",
       "    </tr>\n",
       "    <tr>\n",
       "      <th>1</th>\n",
       "      <td>буфет</td>\n",
       "      <td>11</td>\n",
       "      <td>0.371120</td>\n",
       "    </tr>\n",
       "    <tr>\n",
       "      <th>7</th>\n",
       "      <td>столовая</td>\n",
       "      <td>3</td>\n",
       "      <td>0.101215</td>\n",
       "    </tr>\n",
       "  </tbody>\n",
       "</table>\n",
       "</div>"
      ],
      "text/plain": [
       "       Тип объекта  Количество       Доля\n",
       "3             кафе        1396  47.098516\n",
       "8         фаст-фуд         788  26.585695\n",
       "6         ресторан         543  18.319838\n",
       "5  отдел кулинарии          78   2.631579\n",
       "2       закусочная          56   1.889339\n",
       "4        кафетерий          52   1.754386\n",
       "0              бар          37   1.248313\n",
       "1            буфет          11   0.371120\n",
       "7         столовая           3   0.101215"
      ]
     },
     "execution_count": 14,
     "metadata": {},
     "output_type": "execute_result"
    }
   ],
   "source": [
    "chain_type = (rest_data.query('chain == \"да\"')\n",
    "      .groupby('object_type').agg({'id':'count'})\n",
    "      .reset_index()\n",
    "      .sort_values(by='id', ascending=False)  \n",
    "      .rename(\n",
    "    columns={'id':'Количество','object_type':'Тип объекта'})\n",
    "     )\n",
    "sum = chain_type['Количество'].sum()\n",
    "chain_type['Доля'] = chain_type['Количество'] / sum * 100\n",
    "chain_type"
   ]
  },
  {
   "cell_type": "code",
   "execution_count": 15,
   "metadata": {},
   "outputs": [
    {
     "data": {
      "text/plain": [
       "<AxesSubplot:xlabel='Доля', ylabel='Тип объекта'>"
      ]
     },
     "execution_count": 15,
     "metadata": {},
     "output_type": "execute_result"
    },
    {
     "data": {
      "image/png": "[encoded data removed]",
      "text/plain": [
       "<Figure size 432x360 with 1 Axes>"
      ]
     },
     "metadata": {
      "needs_background": "light"
     },
     "output_type": "display_data"
    }
   ],
   "source": [
    "fig, ax = plt.subplots(figsize=(6, 5))\n",
    "sns.barplot(x = chain_type['Доля'], y = chain_type['Тип объекта'], ax=ax, color = 'blue')\n"
   ]
  },
  {
   "cell_type": "markdown",
   "metadata": {},
   "source": [
    "Among chain catering establishments, the main share is also accounted for by cafes (47%), as well as 26.6% for fast food and 18.3% for restaurants. The share of other types of catering in chains is less than 3%."
   ]
  },
  {
   "cell_type": "markdown",
   "metadata": {},
   "source": [
    "### What is typical for network establishments"
   ]
  },
  {
   "cell_type": "code",
   "execution_count": 16,
   "metadata": {
    "scrolled": false
   },
   "outputs": [
    {
     "data": {
      "text/html": [
       "<div>\n",
       "<style scoped>\n",
       "    .dataframe tbody tr th:only-of-type {\n",
       "        vertical-align: middle;\n",
       "    }\n",
       "\n",
       "    .dataframe tbody tr th {\n",
       "        vertical-align: top;\n",
       "    }\n",
       "\n",
       "    .dataframe thead th {\n",
       "        text-align: right;\n",
       "    }\n",
       "</style>\n",
       "<table border=\"1\" class=\"dataframe\">\n",
       "  <thead>\n",
       "    <tr style=\"text-align: right;\">\n",
       "      <th></th>\n",
       "      <th>id</th>\n",
       "      <th>object_name</th>\n",
       "      <th>chain</th>\n",
       "      <th>object_type</th>\n",
       "      <th>address</th>\n",
       "      <th>number</th>\n",
       "    </tr>\n",
       "  </thead>\n",
       "  <tbody>\n",
       "    <tr>\n",
       "      <th>3</th>\n",
       "      <td>21894</td>\n",
       "      <td>пиццетория</td>\n",
       "      <td>да</td>\n",
       "      <td>кафе</td>\n",
       "      <td>город Москва, Абрамцевская улица, дом 1</td>\n",
       "      <td>40</td>\n",
       "    </tr>\n",
       "    <tr>\n",
       "      <th>6</th>\n",
       "      <td>148815</td>\n",
       "      <td>брусника</td>\n",
       "      <td>да</td>\n",
       "      <td>кафе</td>\n",
       "      <td>город Москва, переулок Сивцев Вражек, дом 6/2</td>\n",
       "      <td>10</td>\n",
       "    </tr>\n",
       "    <tr>\n",
       "      <th>13</th>\n",
       "      <td>22579</td>\n",
       "      <td>алло пицца</td>\n",
       "      <td>да</td>\n",
       "      <td>кафе</td>\n",
       "      <td>город Москва, улица Авиаторов, дом 14</td>\n",
       "      <td>32</td>\n",
       "    </tr>\n",
       "    <tr>\n",
       "      <th>16</th>\n",
       "      <td>144107</td>\n",
       "      <td>суши wok</td>\n",
       "      <td>да</td>\n",
       "      <td>фаст-фуд</td>\n",
       "      <td>город Москва, Азовская улица, дом 3</td>\n",
       "      <td>7</td>\n",
       "    </tr>\n",
       "    <tr>\n",
       "      <th>18</th>\n",
       "      <td>58565</td>\n",
       "      <td>тануки</td>\n",
       "      <td>да</td>\n",
       "      <td>ресторан</td>\n",
       "      <td>город Москва, Большая Академическая улица, дом 65</td>\n",
       "      <td>160</td>\n",
       "    </tr>\n",
       "    <tr>\n",
       "      <th>...</th>\n",
       "      <td>...</td>\n",
       "      <td>...</td>\n",
       "      <td>...</td>\n",
       "      <td>...</td>\n",
       "      <td>...</td>\n",
       "      <td>...</td>\n",
       "    </tr>\n",
       "    <tr>\n",
       "      <th>15361</th>\n",
       "      <td>208537</td>\n",
       "      <td>шоколадница</td>\n",
       "      <td>да</td>\n",
       "      <td>кафе</td>\n",
       "      <td>город Москва, 3-й Крутицкий переулок, дом 18</td>\n",
       "      <td>50</td>\n",
       "    </tr>\n",
       "    <tr>\n",
       "      <th>15362</th>\n",
       "      <td>209264</td>\n",
       "      <td>шоколадница</td>\n",
       "      <td>да</td>\n",
       "      <td>кафе</td>\n",
       "      <td>город Москва, улица Земляной Вал, дом 33</td>\n",
       "      <td>10</td>\n",
       "    </tr>\n",
       "    <tr>\n",
       "      <th>15363</th>\n",
       "      <td>209186</td>\n",
       "      <td>шоколадница</td>\n",
       "      <td>да</td>\n",
       "      <td>кафе</td>\n",
       "      <td>город Москва, улица Земляной Вал, дом 33</td>\n",
       "      <td>20</td>\n",
       "    </tr>\n",
       "    <tr>\n",
       "      <th>15364</th>\n",
       "      <td>221900</td>\n",
       "      <td>шоколадница</td>\n",
       "      <td>да</td>\n",
       "      <td>кафе</td>\n",
       "      <td>город Москва, поселение Московский, Киевское ш...</td>\n",
       "      <td>36</td>\n",
       "    </tr>\n",
       "    <tr>\n",
       "      <th>15365</th>\n",
       "      <td>222535</td>\n",
       "      <td>шоколадница</td>\n",
       "      <td>да</td>\n",
       "      <td>кафе</td>\n",
       "      <td>город Москва, Ходынский бульвар, дом 4</td>\n",
       "      <td>10</td>\n",
       "    </tr>\n",
       "  </tbody>\n",
       "</table>\n",
       "<p>2964 rows × 6 columns</p>\n",
       "</div>"
      ],
      "text/plain": [
       "           id  object_name chain object_type  \\\n",
       "3       21894   пиццетория    да        кафе   \n",
       "6      148815     брусника    да        кафе   \n",
       "13      22579   алло пицца    да        кафе   \n",
       "16     144107     суши wok    да    фаст-фуд   \n",
       "18      58565       тануки    да    ресторан   \n",
       "...       ...          ...   ...         ...   \n",
       "15361  208537  шоколадница    да        кафе   \n",
       "15362  209264  шоколадница    да        кафе   \n",
       "15363  209186  шоколадница    да        кафе   \n",
       "15364  221900  шоколадница    да        кафе   \n",
       "15365  222535  шоколадница    да        кафе   \n",
       "\n",
       "                                                 address  number  \n",
       "3                город Москва, Абрамцевская улица, дом 1      40  \n",
       "6          город Москва, переулок Сивцев Вражек, дом 6/2      10  \n",
       "13                 город Москва, улица Авиаторов, дом 14      32  \n",
       "16                   город Москва, Азовская улица, дом 3       7  \n",
       "18     город Москва, Большая Академическая улица, дом 65     160  \n",
       "...                                                  ...     ...  \n",
       "15361       город Москва, 3-й Крутицкий переулок, дом 18      50  \n",
       "15362           город Москва, улица Земляной Вал, дом 33      10  \n",
       "15363           город Москва, улица Земляной Вал, дом 33      20  \n",
       "15364  город Москва, поселение Московский, Киевское ш...      36  \n",
       "15365             город Москва, Ходынский бульвар, дом 4      10  \n",
       "\n",
       "[2964 rows x 6 columns]"
      ]
     },
     "execution_count": 16,
     "metadata": {},
     "output_type": "execute_result"
    }
   ],
   "source": [
    "chain = rest_data.query('chain == \"да\"')\n",
    "chain"
   ]
  },
  {
   "cell_type": "code",
   "execution_count": 17,
   "metadata": {},
   "outputs": [
    {
     "data": {
      "text/plain": [
       "<AxesSubplot:xlabel='number', ylabel='object_type'>"
      ]
     },
     "execution_count": 17,
     "metadata": {},
     "output_type": "execute_result"
    },
    {
     "data": {
      "image/png": "[encoded data removed]",
      "text/plain": [
       "<Figure size 432x288 with 1 Axes>"
      ]
     },
     "metadata": {
      "needs_background": "light"
     },
     "output_type": "display_data"
    }
   ],
   "source": [
    "sns.scatterplot(data=chain, x=\"number\", y=\"object_type\")"
   ]
  },
  {
   "cell_type": "code",
   "execution_count": 33,
   "metadata": {},
   "outputs": [
    {
     "data": {
      "text/html": [
       "<div>\n",
       "<style scoped>\n",
       "    .dataframe tbody tr th:only-of-type {\n",
       "        vertical-align: middle;\n",
       "    }\n",
       "\n",
       "    .dataframe tbody tr th {\n",
       "        vertical-align: top;\n",
       "    }\n",
       "\n",
       "    .dataframe thead th {\n",
       "        text-align: right;\n",
       "    }\n",
       "</style>\n",
       "<table border=\"1\" class=\"dataframe\">\n",
       "  <thead>\n",
       "    <tr style=\"text-align: right;\">\n",
       "      <th></th>\n",
       "      <th>Тип заведения</th>\n",
       "      <th>Число заведений</th>\n",
       "      <th>Среднее число мест</th>\n",
       "    </tr>\n",
       "  </thead>\n",
       "  <tbody>\n",
       "    <tr>\n",
       "      <th>3</th>\n",
       "      <td>кафе</td>\n",
       "      <td>1396</td>\n",
       "      <td>47.426934</td>\n",
       "    </tr>\n",
       "    <tr>\n",
       "      <th>8</th>\n",
       "      <td>фаст-фуд</td>\n",
       "      <td>788</td>\n",
       "      <td>40.319797</td>\n",
       "    </tr>\n",
       "    <tr>\n",
       "      <th>6</th>\n",
       "      <td>ресторан</td>\n",
       "      <td>543</td>\n",
       "      <td>100.362799</td>\n",
       "    </tr>\n",
       "    <tr>\n",
       "      <th>5</th>\n",
       "      <td>отдел кулинарии</td>\n",
       "      <td>78</td>\n",
       "      <td>8.679487</td>\n",
       "    </tr>\n",
       "    <tr>\n",
       "      <th>2</th>\n",
       "      <td>закусочная</td>\n",
       "      <td>56</td>\n",
       "      <td>14.375000</td>\n",
       "    </tr>\n",
       "    <tr>\n",
       "      <th>4</th>\n",
       "      <td>кафетерий</td>\n",
       "      <td>52</td>\n",
       "      <td>12.269231</td>\n",
       "    </tr>\n",
       "    <tr>\n",
       "      <th>0</th>\n",
       "      <td>бар</td>\n",
       "      <td>37</td>\n",
       "      <td>53.027027</td>\n",
       "    </tr>\n",
       "    <tr>\n",
       "      <th>1</th>\n",
       "      <td>буфет</td>\n",
       "      <td>11</td>\n",
       "      <td>12.727273</td>\n",
       "    </tr>\n",
       "    <tr>\n",
       "      <th>7</th>\n",
       "      <td>столовая</td>\n",
       "      <td>3</td>\n",
       "      <td>112.333333</td>\n",
       "    </tr>\n",
       "  </tbody>\n",
       "</table>\n",
       "</div>"
      ],
      "text/plain": [
       "     Тип заведения  Число заведений  Среднее число мест\n",
       "3             кафе             1396           47.426934\n",
       "8         фаст-фуд              788           40.319797\n",
       "6         ресторан              543          100.362799\n",
       "5  отдел кулинарии               78            8.679487\n",
       "2       закусочная               56           14.375000\n",
       "4        кафетерий               52           12.269231\n",
       "0              бар               37           53.027027\n",
       "1            буфет               11           12.727273\n",
       "7         столовая                3          112.333333"
      ]
     },
     "execution_count": 33,
     "metadata": {},
     "output_type": "execute_result"
    }
   ],
   "source": [
    "chain_2 = (chain.groupby('object_type')\n",
    "               .agg({'id':'count', 'number':'mean'})\n",
    "               .reset_index()\n",
    "               .rename(columns={'object_type':'Тип заведения','id':'Число заведений', 'number':'Среднее число мест'})\n",
    "               .sort_values(by='Число заведений', ascending=False)   \n",
    "               )\n",
    "              \n",
    "chain_2"
   ]
  },
  {
   "cell_type": "code",
   "execution_count": 44,
   "metadata": {},
   "outputs": [
    {
     "data": {
      "text/plain": [
       "<AxesSubplot:xlabel='Число заведений', ylabel='Среднее число мест'>"
      ]
     },
     "execution_count": 44,
     "metadata": {},
     "output_type": "execute_result"
    },
    {
     "data": {
      "image/png": "[encoded data removed]",
      "text/plain": [
       "<Figure size 504x504 with 1 Axes>"
      ]
     },
     "metadata": {
      "needs_background": "light"
     },
     "output_type": "display_data"
    }
   ],
   "source": [
    "fig = plt.gcf()\n",
    "fig.set_size_inches(7, 7)\n",
    "sns.scatterplot(data=chain_2, x=\"Число заведений\", y=\"Среднее число мест\", hue = \"Тип заведения\")"
   ]
  },
  {
   "cell_type": "code",
   "execution_count": 18,
   "metadata": {},
   "outputs": [
    {
     "name": "stdout",
     "output_type": "stream",
     "text": [
      "Максиальное число посадочных мест 580 \n",
      "Минимальное число посадочных мест 0 \n",
      "Медианное число посадочных мест 40.0 \n",
      "Среднее число посадочных мест 53.0\n"
     ]
    }
   ],
   "source": [
    "number_max = chain['number'].max()\n",
    "number_min = chain['number'].min()\n",
    "number_median = chain['number'].median()\n",
    "number_avg = chain['number'].mean()\n",
    "print('Максиальное число посадочных мест', number_max,\n",
    "     '\\nМинимальное число посадочных мест', number_min,\n",
    "     '\\nМедианное число посадочных мест', number_median,\n",
    "     '\\nСреднее число посадочных мест', number_avg.round(1))"
   ]
  },
  {
   "cell_type": "code",
   "execution_count": 19,
   "metadata": {},
   "outputs": [
    {
     "data": {
      "text/html": [
       "<div>\n",
       "<style scoped>\n",
       "    .dataframe tbody tr th:only-of-type {\n",
       "        vertical-align: middle;\n",
       "    }\n",
       "\n",
       "    .dataframe tbody tr th {\n",
       "        vertical-align: top;\n",
       "    }\n",
       "\n",
       "    .dataframe thead th {\n",
       "        text-align: right;\n",
       "    }\n",
       "</style>\n",
       "<table border=\"1\" class=\"dataframe\">\n",
       "  <thead>\n",
       "    <tr style=\"text-align: right;\">\n",
       "      <th></th>\n",
       "      <th>Тип заведения</th>\n",
       "      <th>Число заведений</th>\n",
       "      <th>Среднее число мест</th>\n",
       "    </tr>\n",
       "  </thead>\n",
       "  <tbody>\n",
       "    <tr>\n",
       "      <th>3</th>\n",
       "      <td>кафе</td>\n",
       "      <td>1396</td>\n",
       "      <td>47.426934</td>\n",
       "    </tr>\n",
       "    <tr>\n",
       "      <th>8</th>\n",
       "      <td>фаст-фуд</td>\n",
       "      <td>788</td>\n",
       "      <td>40.319797</td>\n",
       "    </tr>\n",
       "    <tr>\n",
       "      <th>6</th>\n",
       "      <td>ресторан</td>\n",
       "      <td>543</td>\n",
       "      <td>100.362799</td>\n",
       "    </tr>\n",
       "    <tr>\n",
       "      <th>5</th>\n",
       "      <td>отдел кулинарии</td>\n",
       "      <td>78</td>\n",
       "      <td>8.679487</td>\n",
       "    </tr>\n",
       "    <tr>\n",
       "      <th>2</th>\n",
       "      <td>закусочная</td>\n",
       "      <td>56</td>\n",
       "      <td>14.375000</td>\n",
       "    </tr>\n",
       "    <tr>\n",
       "      <th>4</th>\n",
       "      <td>кафетерий</td>\n",
       "      <td>52</td>\n",
       "      <td>12.269231</td>\n",
       "    </tr>\n",
       "    <tr>\n",
       "      <th>0</th>\n",
       "      <td>бар</td>\n",
       "      <td>37</td>\n",
       "      <td>53.027027</td>\n",
       "    </tr>\n",
       "    <tr>\n",
       "      <th>1</th>\n",
       "      <td>буфет</td>\n",
       "      <td>11</td>\n",
       "      <td>12.727273</td>\n",
       "    </tr>\n",
       "    <tr>\n",
       "      <th>7</th>\n",
       "      <td>столовая</td>\n",
       "      <td>3</td>\n",
       "      <td>112.333333</td>\n",
       "    </tr>\n",
       "  </tbody>\n",
       "</table>\n",
       "</div>"
      ],
      "text/plain": [
       "     Тип заведения  Число заведений  Среднее число мест\n",
       "3             кафе             1396           47.426934\n",
       "8         фаст-фуд              788           40.319797\n",
       "6         ресторан              543          100.362799\n",
       "5  отдел кулинарии               78            8.679487\n",
       "2       закусочная               56           14.375000\n",
       "4        кафетерий               52           12.269231\n",
       "0              бар               37           53.027027\n",
       "1            буфет               11           12.727273\n",
       "7         столовая                3          112.333333"
      ]
     },
     "execution_count": 19,
     "metadata": {},
     "output_type": "execute_result"
    }
   ],
   "source": [
    "chain_number = (chain.groupby('object_type')\n",
    "               .agg({'id':'count', 'number':'mean'})\n",
    "               .reset_index()\n",
    "               .rename(columns={'object_type':'Тип заведения','id':'Число заведений', 'number':'Среднее число мест'})\n",
    "               .sort_values(by='Число заведений', ascending=False)   \n",
    "               )\n",
    "              \n",
    "chain_number"
   ]
  },
  {
   "cell_type": "code",
   "execution_count": 20,
   "metadata": {},
   "outputs": [
    {
     "data": {
      "text/plain": [
       "array([53.02702703])"
      ]
     },
     "execution_count": 20,
     "metadata": {},
     "output_type": "execute_result"
    }
   ],
   "source": [
    "np.percentile(chain_number['Среднее число мест'], [75])"
   ]
  },
  {
   "cell_type": "code",
   "execution_count": 21,
   "metadata": {},
   "outputs": [
    {
     "data": {
      "text/html": [
       "<div>\n",
       "<style scoped>\n",
       "    .dataframe tbody tr th:only-of-type {\n",
       "        vertical-align: middle;\n",
       "    }\n",
       "\n",
       "    .dataframe tbody tr th {\n",
       "        vertical-align: top;\n",
       "    }\n",
       "\n",
       "    .dataframe thead th {\n",
       "        text-align: right;\n",
       "    }\n",
       "</style>\n",
       "<table border=\"1\" class=\"dataframe\">\n",
       "  <thead>\n",
       "    <tr style=\"text-align: right;\">\n",
       "      <th></th>\n",
       "      <th>Тип заведения</th>\n",
       "      <th>Среднее число мест</th>\n",
       "      <th>Медианное число мест</th>\n",
       "    </tr>\n",
       "  </thead>\n",
       "  <tbody>\n",
       "    <tr>\n",
       "      <th>7</th>\n",
       "      <td>столовая</td>\n",
       "      <td>130.337848</td>\n",
       "      <td>103</td>\n",
       "    </tr>\n",
       "    <tr>\n",
       "      <th>6</th>\n",
       "      <td>ресторан</td>\n",
       "      <td>96.884750</td>\n",
       "      <td>80</td>\n",
       "    </tr>\n",
       "    <tr>\n",
       "      <th>1</th>\n",
       "      <td>буфет</td>\n",
       "      <td>51.509532</td>\n",
       "      <td>32</td>\n",
       "    </tr>\n",
       "    <tr>\n",
       "      <th>0</th>\n",
       "      <td>бар</td>\n",
       "      <td>43.533333</td>\n",
       "      <td>35</td>\n",
       "    </tr>\n",
       "    <tr>\n",
       "      <th>3</th>\n",
       "      <td>кафе</td>\n",
       "      <td>39.785703</td>\n",
       "      <td>30</td>\n",
       "    </tr>\n",
       "    <tr>\n",
       "      <th>8</th>\n",
       "      <td>фаст-фуд</td>\n",
       "      <td>20.808219</td>\n",
       "      <td>6</td>\n",
       "    </tr>\n",
       "    <tr>\n",
       "      <th>4</th>\n",
       "      <td>кафетерий</td>\n",
       "      <td>9.184810</td>\n",
       "      <td>6</td>\n",
       "    </tr>\n",
       "    <tr>\n",
       "      <th>2</th>\n",
       "      <td>закусочная</td>\n",
       "      <td>7.825215</td>\n",
       "      <td>0</td>\n",
       "    </tr>\n",
       "    <tr>\n",
       "      <th>5</th>\n",
       "      <td>отдел кулинарии</td>\n",
       "      <td>5.589744</td>\n",
       "      <td>0</td>\n",
       "    </tr>\n",
       "  </tbody>\n",
       "</table>\n",
       "</div>"
      ],
      "text/plain": [
       "     Тип заведения  Среднее число мест  Медианное число мест\n",
       "7         столовая          130.337848                   103\n",
       "6         ресторан           96.884750                    80\n",
       "1            буфет           51.509532                    32\n",
       "0              бар           43.533333                    35\n",
       "3             кафе           39.785703                    30\n",
       "8         фаст-фуд           20.808219                     6\n",
       "4        кафетерий            9.184810                     6\n",
       "2       закусочная            7.825215                     0\n",
       "5  отдел кулинарии            5.589744                     0"
      ]
     },
     "execution_count": 21,
     "metadata": {},
     "output_type": "execute_result"
    }
   ],
   "source": [
    "number_type = (rest_data\n",
    "               .groupby('object_type').agg({'number':['mean','median']})\n",
    "               .reset_index()\n",
    "              )\n",
    "number_type.columns = ['Тип заведения','Среднее число мест','Медианное число мест']\n",
    "number_type.sort_values(by='Среднее число мест', ascending=False)"
   ]
  },
  {
   "cell_type": "code",
   "execution_count": 22,
   "metadata": {},
   "outputs": [
    {
     "data": {
      "image/png": "[encoded data removed]",
      "text/plain": [
       "<Figure size 432x360 with 1 Axes>"
      ]
     },
     "metadata": {
      "needs_background": "light"
     },
     "output_type": "display_data"
    }
   ],
   "source": [
    "fig, ax = plt.subplots(figsize=(6, 5))\n",
    "ax = sns.barplot(x=\"Среднее число мест\", y=\"Тип заведения\", data = number_type.sort_values(by = 'Среднее число мест', ascending = False), ax=ax, color = 'blue')"
   ]
  },
  {
   "cell_type": "code",
   "execution_count": 23,
   "metadata": {},
   "outputs": [
    {
     "data": {
      "text/plain": [
       "<AxesSubplot:xlabel='Медианное число мест', ylabel='Тип заведения'>"
      ]
     },
     "execution_count": 23,
     "metadata": {},
     "output_type": "execute_result"
    },
    {
     "data": {
      "image/png": "[encoded data removed]",
      "text/plain": [
       "<Figure size 432x360 with 1 Axes>"
      ]
     },
     "metadata": {
      "needs_background": "light"
     },
     "output_type": "display_data"
    }
   ],
   "source": [
    "fig, ax = plt.subplots(figsize=(6, 5))\n",
    "sns.barplot(x=\"Медианное число мест\", y=\"Тип заведения\", data=number_type.sort_values(by = 'Медианное число мест', ascending = False), ax=ax, color = 'blue')"
   ]
  },
  {
   "cell_type": "markdown",
   "metadata": {},
   "source": [
    "The analysis of the number of seats by network establishments allowed us to draw the following conclusions:\n",
    "\n",
    "1. The maximum number of seats is 580. But the median value is 40, and 75% of chain catering establishments have less than 53 seats. So we will assume that less than 53 - few seats, more than 53 - a lot of seats.\n",
    "2. The largest number of seats is at canteens, on average 130, while the spread, judging by the schedule, is significant. Restaurants also have a lot of seats - an average of 93.\n",
    "3. Thus, chain catering establishments usually have a small number of seats."
   ]
  },
  {
   "cell_type": "markdown",
   "metadata": {},
   "source": [
    "### Selecting streets in a separate column"
   ]
  },
  {
   "cell_type": "code",
   "execution_count": 24,
   "metadata": {},
   "outputs": [],
   "source": [
    "address = rest_data['address']\n",
    "\n",
    "listing = []\n",
    "for adress in rest_data['address']:  \n",
    "    city = adress.find('город москва')\n",
    "    house = adress.find('дом')\n",
    "    listing.append(adress[city+15:house-2])"
   ]
  },
  {
   "cell_type": "code",
   "execution_count": 25,
   "metadata": {},
   "outputs": [
    {
     "data": {
      "text/html": [
       "<div>\n",
       "<style scoped>\n",
       "    .dataframe tbody tr th:only-of-type {\n",
       "        vertical-align: middle;\n",
       "    }\n",
       "\n",
       "    .dataframe tbody tr th {\n",
       "        vertical-align: top;\n",
       "    }\n",
       "\n",
       "    .dataframe thead th {\n",
       "        text-align: right;\n",
       "    }\n",
       "</style>\n",
       "<table border=\"1\" class=\"dataframe\">\n",
       "  <thead>\n",
       "    <tr style=\"text-align: right;\">\n",
       "      <th></th>\n",
       "      <th>id</th>\n",
       "      <th>object_name</th>\n",
       "      <th>chain</th>\n",
       "      <th>object_type</th>\n",
       "      <th>address</th>\n",
       "      <th>number</th>\n",
       "      <th>street</th>\n",
       "    </tr>\n",
       "  </thead>\n",
       "  <tbody>\n",
       "    <tr>\n",
       "      <th>0</th>\n",
       "      <td>151635</td>\n",
       "      <td>сметана</td>\n",
       "      <td>нет</td>\n",
       "      <td>кафе</td>\n",
       "      <td>город Москва, улица Егора Абакумова, дом 9</td>\n",
       "      <td>48</td>\n",
       "      <td>улица Егора Абакумова</td>\n",
       "    </tr>\n",
       "    <tr>\n",
       "      <th>1</th>\n",
       "      <td>77874</td>\n",
       "      <td>родник</td>\n",
       "      <td>нет</td>\n",
       "      <td>кафе</td>\n",
       "      <td>город Москва, улица Талалихина, дом 2/1, корпус 1</td>\n",
       "      <td>35</td>\n",
       "      <td>улица Талалихина</td>\n",
       "    </tr>\n",
       "    <tr>\n",
       "      <th>2</th>\n",
       "      <td>24309</td>\n",
       "      <td>кафе «академия»</td>\n",
       "      <td>нет</td>\n",
       "      <td>кафе</td>\n",
       "      <td>город Москва, Абельмановская улица, дом 6</td>\n",
       "      <td>95</td>\n",
       "      <td>Абельмановская улица</td>\n",
       "    </tr>\n",
       "    <tr>\n",
       "      <th>3</th>\n",
       "      <td>21894</td>\n",
       "      <td>пиццетория</td>\n",
       "      <td>да</td>\n",
       "      <td>кафе</td>\n",
       "      <td>город Москва, Абрамцевская улица, дом 1</td>\n",
       "      <td>40</td>\n",
       "      <td>Абрамцевская улица</td>\n",
       "    </tr>\n",
       "    <tr>\n",
       "      <th>4</th>\n",
       "      <td>119365</td>\n",
       "      <td>кафе «вишневая метель»</td>\n",
       "      <td>нет</td>\n",
       "      <td>кафе</td>\n",
       "      <td>город Москва, Абрамцевская улица, дом 9, корпус 1</td>\n",
       "      <td>50</td>\n",
       "      <td>Абрамцевская улица</td>\n",
       "    </tr>\n",
       "    <tr>\n",
       "      <th>...</th>\n",
       "      <td>...</td>\n",
       "      <td>...</td>\n",
       "      <td>...</td>\n",
       "      <td>...</td>\n",
       "      <td>...</td>\n",
       "      <td>...</td>\n",
       "      <td>...</td>\n",
       "    </tr>\n",
       "    <tr>\n",
       "      <th>15361</th>\n",
       "      <td>208537</td>\n",
       "      <td>шоколадница</td>\n",
       "      <td>да</td>\n",
       "      <td>кафе</td>\n",
       "      <td>город Москва, 3-й Крутицкий переулок, дом 18</td>\n",
       "      <td>50</td>\n",
       "      <td>3-й Крутицкий переулок</td>\n",
       "    </tr>\n",
       "    <tr>\n",
       "      <th>15362</th>\n",
       "      <td>209264</td>\n",
       "      <td>шоколадница</td>\n",
       "      <td>да</td>\n",
       "      <td>кафе</td>\n",
       "      <td>город Москва, улица Земляной Вал, дом 33</td>\n",
       "      <td>10</td>\n",
       "      <td>улица Земляной Вал</td>\n",
       "    </tr>\n",
       "    <tr>\n",
       "      <th>15363</th>\n",
       "      <td>209186</td>\n",
       "      <td>шоколадница</td>\n",
       "      <td>да</td>\n",
       "      <td>кафе</td>\n",
       "      <td>город Москва, улица Земляной Вал, дом 33</td>\n",
       "      <td>20</td>\n",
       "      <td>улица Земляной Вал</td>\n",
       "    </tr>\n",
       "    <tr>\n",
       "      <th>15364</th>\n",
       "      <td>221900</td>\n",
       "      <td>шоколадница</td>\n",
       "      <td>да</td>\n",
       "      <td>кафе</td>\n",
       "      <td>город Москва, поселение Московский, Киевское ш...</td>\n",
       "      <td>36</td>\n",
       "      <td>поселение Московский, Киевское шоссе, 22-й кил...</td>\n",
       "    </tr>\n",
       "    <tr>\n",
       "      <th>15365</th>\n",
       "      <td>222535</td>\n",
       "      <td>шоколадница</td>\n",
       "      <td>да</td>\n",
       "      <td>кафе</td>\n",
       "      <td>город Москва, Ходынский бульвар, дом 4</td>\n",
       "      <td>10</td>\n",
       "      <td>Ходынский бульвар</td>\n",
       "    </tr>\n",
       "  </tbody>\n",
       "</table>\n",
       "<p>15284 rows × 7 columns</p>\n",
       "</div>"
      ],
      "text/plain": [
       "           id             object_name chain object_type  \\\n",
       "0      151635                 сметана   нет        кафе   \n",
       "1       77874                  родник   нет        кафе   \n",
       "2       24309         кафе «академия»   нет        кафе   \n",
       "3       21894              пиццетория    да        кафе   \n",
       "4      119365  кафе «вишневая метель»   нет        кафе   \n",
       "...       ...                     ...   ...         ...   \n",
       "15361  208537             шоколадница    да        кафе   \n",
       "15362  209264             шоколадница    да        кафе   \n",
       "15363  209186             шоколадница    да        кафе   \n",
       "15364  221900             шоколадница    да        кафе   \n",
       "15365  222535             шоколадница    да        кафе   \n",
       "\n",
       "                                                 address  number  \\\n",
       "0             город Москва, улица Егора Абакумова, дом 9      48   \n",
       "1      город Москва, улица Талалихина, дом 2/1, корпус 1      35   \n",
       "2              город Москва, Абельмановская улица, дом 6      95   \n",
       "3                город Москва, Абрамцевская улица, дом 1      40   \n",
       "4      город Москва, Абрамцевская улица, дом 9, корпус 1      50   \n",
       "...                                                  ...     ...   \n",
       "15361       город Москва, 3-й Крутицкий переулок, дом 18      50   \n",
       "15362           город Москва, улица Земляной Вал, дом 33      10   \n",
       "15363           город Москва, улица Земляной Вал, дом 33      20   \n",
       "15364  город Москва, поселение Московский, Киевское ш...      36   \n",
       "15365             город Москва, Ходынский бульвар, дом 4      10   \n",
       "\n",
       "                                                  street  \n",
       "0                                  улица Егора Абакумова  \n",
       "1                                       улица Талалихина  \n",
       "2                                   Абельмановская улица  \n",
       "3                                     Абрамцевская улица  \n",
       "4                                     Абрамцевская улица  \n",
       "...                                                  ...  \n",
       "15361                             3-й Крутицкий переулок  \n",
       "15362                                 улица Земляной Вал  \n",
       "15363                                 улица Земляной Вал  \n",
       "15364  поселение Московский, Киевское шоссе, 22-й кил...  \n",
       "15365                                  Ходынский бульвар  \n",
       "\n",
       "[15284 rows x 7 columns]"
      ]
     },
     "execution_count": 25,
     "metadata": {},
     "output_type": "execute_result"
    }
   ],
   "source": [
    "rest_data['street'] = listing\n",
    "rest_data"
   ]
  },
  {
   "cell_type": "markdown",
   "metadata": {},
   "source": [
    "### Top 10 streets by the number of catering facilities"
   ]
  },
  {
   "cell_type": "code",
   "execution_count": 26,
   "metadata": {},
   "outputs": [
    {
     "data": {
      "text/html": [
       "<div>\n",
       "<style scoped>\n",
       "    .dataframe tbody tr th:only-of-type {\n",
       "        vertical-align: middle;\n",
       "    }\n",
       "\n",
       "    .dataframe tbody tr th {\n",
       "        vertical-align: top;\n",
       "    }\n",
       "\n",
       "    .dataframe thead th {\n",
       "        text-align: right;\n",
       "    }\n",
       "</style>\n",
       "<table border=\"1\" class=\"dataframe\">\n",
       "  <thead>\n",
       "    <tr style=\"text-align: right;\">\n",
       "      <th></th>\n",
       "      <th>street</th>\n",
       "      <th>object_name</th>\n",
       "    </tr>\n",
       "  </thead>\n",
       "  <tbody>\n",
       "    <tr>\n",
       "      <th>0</th>\n",
       "      <td>проспект Мира</td>\n",
       "      <td>204</td>\n",
       "    </tr>\n",
       "    <tr>\n",
       "      <th>1</th>\n",
       "      <td>Профсоюзная улица</td>\n",
       "      <td>181</td>\n",
       "    </tr>\n",
       "    <tr>\n",
       "      <th>2</th>\n",
       "      <td>Ленинградский проспект</td>\n",
       "      <td>169</td>\n",
       "    </tr>\n",
       "    <tr>\n",
       "      <th>3</th>\n",
       "      <td>Пресненская набережная</td>\n",
       "      <td>167</td>\n",
       "    </tr>\n",
       "    <tr>\n",
       "      <th>4</th>\n",
       "      <td>Варшавское шоссе</td>\n",
       "      <td>155</td>\n",
       "    </tr>\n",
       "    <tr>\n",
       "      <th>...</th>\n",
       "      <td>...</td>\n",
       "      <td>...</td>\n",
       "    </tr>\n",
       "    <tr>\n",
       "      <th>2235</th>\n",
       "      <td>6-я улица Лазенки</td>\n",
       "      <td>1</td>\n",
       "    </tr>\n",
       "    <tr>\n",
       "      <th>2236</th>\n",
       "      <td>6-я Кожуховская улица</td>\n",
       "      <td>1</td>\n",
       "    </tr>\n",
       "    <tr>\n",
       "      <th>2237</th>\n",
       "      <td>Челюскинская улица</td>\n",
       "      <td>1</td>\n",
       "    </tr>\n",
       "    <tr>\n",
       "      <th>2238</th>\n",
       "      <td>6-й Лучевой просек</td>\n",
       "      <td>1</td>\n",
       "    </tr>\n",
       "    <tr>\n",
       "      <th>2239</th>\n",
       "      <td>я улица</td>\n",
       "      <td>1</td>\n",
       "    </tr>\n",
       "  </tbody>\n",
       "</table>\n",
       "<p>2240 rows × 2 columns</p>\n",
       "</div>"
      ],
      "text/plain": [
       "                      street  object_name\n",
       "0              проспект Мира          204\n",
       "1          Профсоюзная улица          181\n",
       "2     Ленинградский проспект          169\n",
       "3     Пресненская набережная          167\n",
       "4           Варшавское шоссе          155\n",
       "...                      ...          ...\n",
       "2235       6-я улица Лазенки            1\n",
       "2236   6-я Кожуховская улица            1\n",
       "2237      Челюскинская улица            1\n",
       "2238      6-й Лучевой просек            1\n",
       "2239                 я улица            1\n",
       "\n",
       "[2240 rows x 2 columns]"
      ]
     },
     "execution_count": 26,
     "metadata": {},
     "output_type": "execute_result"
    }
   ],
   "source": [
    "street_top = (rest_data.groupby(['street'])\n",
    "                    .agg({'object_name':'count'})\n",
    "                    .sort_values(by='object_name', ascending=False)\n",
    "                    .reset_index()\n",
    "                   )\n",
    "street_top"
   ]
  },
  {
   "cell_type": "code",
   "execution_count": 27,
   "metadata": {},
   "outputs": [
    {
     "data": {
      "image/png": "[encoded data removed]",
      "text/plain": [
       "<Figure size 432x288 with 1 Axes>"
      ]
     },
     "metadata": {
      "needs_background": "light"
     },
     "output_type": "display_data"
    }
   ],
   "source": [
    "ax = sns.barplot(y = 'street', x='object_name', data=street_top.head(10), color = 'blue')\n",
    "ax.set_xlabel('Количество объектов')\n",
    "ax.set_ylabel('Улица')\n",
    "ax.set_title('Топ-10 улиц по количеству объектов общественного питания')\n",
    "plt.show()"
   ]
  },
  {
   "cell_type": "markdown",
   "metadata": {},
   "source": [
    "The leaders in the number of catering establishments in Moscow are Prospekt Mira (204 establishments), st. Profsoyuznaya (181 establishments), Leningradsky Prospekt (169 establishments).\n",
    "\n",
    "These streets are located in the following areas - Prospect Mira: Meshchansky, Maryina Roshcha, Alekseevsky, Ostankinsky, Sviblovo, Rostokino\n",
    "\n",
    "Profsoyuznaya street: Akademichesky, Konkovo, Obruchevsky, Tyoply Stan, Cheryomushki, Yasenevo\n",
    "\n",
    "Leningradsky Prospekt: ​​Begovoy, Airport, Sokol, Khoroshevsky\n",
    "\n",
    "Presnenskaya embankment: Presnensky\n",
    "\n",
    "Warsaw highway: Donskoy, Nagatino-Sadovniki, Nagorny\n",
    "\n",
    "Leninsky Prospekt: ​​Gagarinsky and Donskoy\n",
    "\n",
    "Prospect Vernadsky: Prospect Vernadsky\n",
    "\n",
    "Kutuzovsky prospect: Dorogomilovo, Fili-Davydkovo\n",
    "\n",
    "Kashirskoye Highway: Nagatino-Sadovniki and Nagorny\n",
    "\n",
    "Khodynsky Boulevard: Khoroshevsky"
   ]
  },
  {
   "cell_type": "markdown",
   "metadata": {},
   "source": [
    "### Streets with one catering facility"
   ]
  },
  {
   "cell_type": "code",
   "execution_count": 28,
   "metadata": {},
   "outputs": [
    {
     "data": {
      "text/plain": [
       "796"
      ]
     },
     "execution_count": 28,
     "metadata": {},
     "output_type": "execute_result"
    }
   ],
   "source": [
    "street_top[street_top['object_name'] == 1]['street'].nunique()"
   ]
  },
  {
   "cell_type": "code",
   "execution_count": 29,
   "metadata": {},
   "outputs": [
    {
     "data": {
      "text/html": [
       "<div>\n",
       "<style scoped>\n",
       "    .dataframe tbody tr th:only-of-type {\n",
       "        vertical-align: middle;\n",
       "    }\n",
       "\n",
       "    .dataframe tbody tr th {\n",
       "        vertical-align: top;\n",
       "    }\n",
       "\n",
       "    .dataframe thead th {\n",
       "        text-align: right;\n",
       "    }\n",
       "</style>\n",
       "<table border=\"1\" class=\"dataframe\">\n",
       "  <thead>\n",
       "    <tr style=\"text-align: right;\">\n",
       "      <th></th>\n",
       "      <th>street</th>\n",
       "      <th>areaid</th>\n",
       "      <th>okrug</th>\n",
       "      <th>area</th>\n",
       "    </tr>\n",
       "  </thead>\n",
       "  <tbody>\n",
       "    <tr>\n",
       "      <th>0</th>\n",
       "      <td>Выставочный переулок</td>\n",
       "      <td>17</td>\n",
       "      <td>ЦАО</td>\n",
       "      <td>Пресненский район</td>\n",
       "    </tr>\n",
       "    <tr>\n",
       "      <th>1</th>\n",
       "      <td>улица Гашека</td>\n",
       "      <td>17</td>\n",
       "      <td>ЦАО</td>\n",
       "      <td>Пресненский район</td>\n",
       "    </tr>\n",
       "    <tr>\n",
       "      <th>2</th>\n",
       "      <td>Большая Никитская улица</td>\n",
       "      <td>17</td>\n",
       "      <td>ЦАО</td>\n",
       "      <td>Пресненский район</td>\n",
       "    </tr>\n",
       "    <tr>\n",
       "      <th>3</th>\n",
       "      <td>Глубокий переулок</td>\n",
       "      <td>17</td>\n",
       "      <td>ЦАО</td>\n",
       "      <td>Пресненский район</td>\n",
       "    </tr>\n",
       "    <tr>\n",
       "      <th>4</th>\n",
       "      <td>Большой Гнездниковский переулок</td>\n",
       "      <td>17</td>\n",
       "      <td>ЦАО</td>\n",
       "      <td>Пресненский район</td>\n",
       "    </tr>\n",
       "  </tbody>\n",
       "</table>\n",
       "</div>"
      ],
      "text/plain": [
       "                            street  areaid okrug               area\n",
       "0             Выставочный переулок      17   ЦАО  Пресненский район\n",
       "1                     улица Гашека      17   ЦАО  Пресненский район\n",
       "2          Большая Никитская улица      17   ЦАО  Пресненский район\n",
       "3                Глубокий переулок      17   ЦАО  Пресненский район\n",
       "4  Большой Гнездниковский переулок      17   ЦАО  Пресненский район"
      ]
     },
     "execution_count": 29,
     "metadata": {},
     "output_type": "execute_result"
    }
   ],
   "source": [
    "from io import BytesIO\n",
    "import requests\n",
    "link = '1jB0T2q4XbQMUOSVmjCMS8cJDhBjdmhJcWcwsV_WcsQM'\n",
    "data = 'https://docs.google.com/spreadsheets/d/{}/export?format=csv'.format(link)\n",
    "get = requests.get(data)\n",
    "moscow_street = pd.read_csv(BytesIO(get.content))\n",
    "moscow_street.rename(columns={'streetname' : 'street'}, inplace = True)\n",
    "moscow_street.head()"
   ]
  },
  {
   "cell_type": "code",
   "execution_count": 30,
   "metadata": {},
   "outputs": [
    {
     "data": {
      "text/html": [
       "<div>\n",
       "<style scoped>\n",
       "    .dataframe tbody tr th:only-of-type {\n",
       "        vertical-align: middle;\n",
       "    }\n",
       "\n",
       "    .dataframe tbody tr th {\n",
       "        vertical-align: top;\n",
       "    }\n",
       "\n",
       "    .dataframe thead th {\n",
       "        text-align: right;\n",
       "    }\n",
       "</style>\n",
       "<table border=\"1\" class=\"dataframe\">\n",
       "  <thead>\n",
       "    <tr style=\"text-align: right;\">\n",
       "      <th></th>\n",
       "      <th>street</th>\n",
       "      <th>object_name</th>\n",
       "      <th>areaid</th>\n",
       "      <th>okrug</th>\n",
       "      <th>area</th>\n",
       "    </tr>\n",
       "  </thead>\n",
       "  <tbody>\n",
       "    <tr>\n",
       "      <th>0</th>\n",
       "      <td>проспект Мира</td>\n",
       "      <td>204</td>\n",
       "      <td>70.0</td>\n",
       "      <td>СВАО</td>\n",
       "      <td>Алексеевский район</td>\n",
       "    </tr>\n",
       "    <tr>\n",
       "      <th>1</th>\n",
       "      <td>проспект Мира</td>\n",
       "      <td>204</td>\n",
       "      <td>86.0</td>\n",
       "      <td>СВАО</td>\n",
       "      <td>Ярославский Район</td>\n",
       "    </tr>\n",
       "    <tr>\n",
       "      <th>2</th>\n",
       "      <td>проспект Мира</td>\n",
       "      <td>204</td>\n",
       "      <td>78.0</td>\n",
       "      <td>СВАО</td>\n",
       "      <td>Район Марьина роща</td>\n",
       "    </tr>\n",
       "    <tr>\n",
       "      <th>3</th>\n",
       "      <td>проспект Мира</td>\n",
       "      <td>204</td>\n",
       "      <td>79.0</td>\n",
       "      <td>СВАО</td>\n",
       "      <td>Останкинский район</td>\n",
       "    </tr>\n",
       "    <tr>\n",
       "      <th>4</th>\n",
       "      <td>проспект Мира</td>\n",
       "      <td>204</td>\n",
       "      <td>81.0</td>\n",
       "      <td>СВАО</td>\n",
       "      <td>Район Ростокино</td>\n",
       "    </tr>\n",
       "    <tr>\n",
       "      <th>...</th>\n",
       "      <td>...</td>\n",
       "      <td>...</td>\n",
       "      <td>...</td>\n",
       "      <td>...</td>\n",
       "      <td>...</td>\n",
       "    </tr>\n",
       "    <tr>\n",
       "      <th>2738</th>\n",
       "      <td>6-я улица Лазенки</td>\n",
       "      <td>1</td>\n",
       "      <td>42.0</td>\n",
       "      <td>ЗАО</td>\n",
       "      <td>Район Ново-Переделкино</td>\n",
       "    </tr>\n",
       "    <tr>\n",
       "      <th>2739</th>\n",
       "      <td>6-я Кожуховская улица</td>\n",
       "      <td>1</td>\n",
       "      <td>122.0</td>\n",
       "      <td>ЮВАО</td>\n",
       "      <td>Южнопортовый Район</td>\n",
       "    </tr>\n",
       "    <tr>\n",
       "      <th>2740</th>\n",
       "      <td>Челюскинская улица</td>\n",
       "      <td>1</td>\n",
       "      <td>76.0</td>\n",
       "      <td>СВАО</td>\n",
       "      <td>Лосиноостровский район</td>\n",
       "    </tr>\n",
       "    <tr>\n",
       "      <th>2741</th>\n",
       "      <td>6-й Лучевой просек</td>\n",
       "      <td>1</td>\n",
       "      <td>26.0</td>\n",
       "      <td>ВАО</td>\n",
       "      <td>Район Сокольники</td>\n",
       "    </tr>\n",
       "    <tr>\n",
       "      <th>2742</th>\n",
       "      <td>я улица</td>\n",
       "      <td>1</td>\n",
       "      <td>NaN</td>\n",
       "      <td>NaN</td>\n",
       "      <td>NaN</td>\n",
       "    </tr>\n",
       "  </tbody>\n",
       "</table>\n",
       "<p>2743 rows × 5 columns</p>\n",
       "</div>"
      ],
      "text/plain": [
       "                     street  object_name  areaid okrug                    area\n",
       "0             проспект Мира          204    70.0  СВАО      Алексеевский район\n",
       "1             проспект Мира          204    86.0  СВАО       Ярославский Район\n",
       "2             проспект Мира          204    78.0  СВАО      Район Марьина роща\n",
       "3             проспект Мира          204    79.0  СВАО      Останкинский район\n",
       "4             проспект Мира          204    81.0  СВАО         Район Ростокино\n",
       "...                     ...          ...     ...   ...                     ...\n",
       "2738      6-я улица Лазенки            1    42.0   ЗАО  Район Ново-Переделкино\n",
       "2739  6-я Кожуховская улица            1   122.0  ЮВАО      Южнопортовый Район\n",
       "2740     Челюскинская улица            1    76.0  СВАО  Лосиноостровский район\n",
       "2741     6-й Лучевой просек            1    26.0   ВАО        Район Сокольники\n",
       "2742                я улица            1     NaN   NaN                     NaN\n",
       "\n",
       "[2743 rows x 5 columns]"
      ]
     },
     "execution_count": 30,
     "metadata": {},
     "output_type": "execute_result"
    }
   ],
   "source": [
    "one_street = street_top.merge(moscow_street, on='street', how='left')\n",
    "one_street"
   ]
  },
  {
   "cell_type": "code",
   "execution_count": 31,
   "metadata": {},
   "outputs": [
    {
     "data": {
      "text/html": [
       "<div>\n",
       "<style scoped>\n",
       "    .dataframe tbody tr th:only-of-type {\n",
       "        vertical-align: middle;\n",
       "    }\n",
       "\n",
       "    .dataframe tbody tr th {\n",
       "        vertical-align: top;\n",
       "    }\n",
       "\n",
       "    .dataframe thead th {\n",
       "        text-align: right;\n",
       "    }\n",
       "</style>\n",
       "<table border=\"1\" class=\"dataframe\">\n",
       "  <thead>\n",
       "    <tr style=\"text-align: right;\">\n",
       "      <th></th>\n",
       "      <th>area</th>\n",
       "    </tr>\n",
       "  </thead>\n",
       "  <tbody>\n",
       "    <tr>\n",
       "      <th>Тверской район</th>\n",
       "      <td>106</td>\n",
       "    </tr>\n",
       "    <tr>\n",
       "      <th>Пресненский район</th>\n",
       "      <td>87</td>\n",
       "    </tr>\n",
       "    <tr>\n",
       "      <th>Таганский район</th>\n",
       "      <td>81</td>\n",
       "    </tr>\n",
       "    <tr>\n",
       "      <th>Басманный район</th>\n",
       "      <td>80</td>\n",
       "    </tr>\n",
       "    <tr>\n",
       "      <th>Район Хамовники</th>\n",
       "      <td>74</td>\n",
       "    </tr>\n",
       "    <tr>\n",
       "      <th>...</th>\n",
       "      <td>...</td>\n",
       "    </tr>\n",
       "    <tr>\n",
       "      <th>Район Матушкино-Савелки</th>\n",
       "      <td>4</td>\n",
       "    </tr>\n",
       "    <tr>\n",
       "      <th>Район Восточный</th>\n",
       "      <td>3</td>\n",
       "    </tr>\n",
       "    <tr>\n",
       "      <th>Район Капотня</th>\n",
       "      <td>3</td>\n",
       "    </tr>\n",
       "    <tr>\n",
       "      <th>Панфиловский район</th>\n",
       "      <td>3</td>\n",
       "    </tr>\n",
       "    <tr>\n",
       "      <th>Район Некрасовка</th>\n",
       "      <td>2</td>\n",
       "    </tr>\n",
       "  </tbody>\n",
       "</table>\n",
       "<p>123 rows × 1 columns</p>\n",
       "</div>"
      ],
      "text/plain": [
       "                         area\n",
       "Тверской район            106\n",
       "Пресненский район          87\n",
       "Таганский район            81\n",
       "Басманный район            80\n",
       "Район Хамовники            74\n",
       "...                       ...\n",
       "Район Матушкино-Савелки     4\n",
       "Район Восточный             3\n",
       "Район Капотня               3\n",
       "Панфиловский район          3\n",
       "Район Некрасовка            2\n",
       "\n",
       "[123 rows x 1 columns]"
      ]
     },
     "execution_count": 31,
     "metadata": {},
     "output_type": "execute_result"
    }
   ],
   "source": [
    "one_street['area'].value_counts().to_frame()"
   ]
  },
  {
   "cell_type": "code",
   "execution_count": 32,
   "metadata": {},
   "outputs": [
    {
     "data": {
      "image/png": "[encoded data removed]",
      "text/plain": [
       "<Figure size 432x288 with 1 Axes>"
      ]
     },
     "metadata": {
      "needs_background": "light"
     },
     "output_type": "display_data"
    }
   ],
   "source": [
    "ax = sns.barplot(y = 'index', x='area', data=one_street['area'].value_counts().reset_index().head(10), color = 'blue')\n",
    "ax.set_xlabel('Число улиц')\n",
    "ax.set_ylabel('')\n",
    "ax.set_title('Районы с большим числом улиц с 1 заведением общепита')\n",
    "plt.show()"
   ]
  },
  {
   "cell_type": "markdown",
   "metadata": {},
   "source": [
    "In total, there are 796 streets with 1 catering establishment in Moscow. Most of these streets are in Tverskoy, Presnensky and Tagansky districts. Which raises questions, since these areas are located within the Garden Ring and around, i.e. quite popular. Perhaps the fact is that the streets there are of short length, and therefore only 1 institution gets on the street. "
   ]
  },
  {
   "cell_type": "markdown",
   "metadata": {},
   "source": [
    "# Conclusions"
   ]
  },
  {
   "cell_type": "markdown",
   "metadata": {},
   "source": [
    "The purpose of the study was to analyze the situation in the public catering market in Moscow for the future investment project of a cafe with robots. The following results were obtained during the analysis:\n",
    "\n",
    "1. Most of all public catering establishments by type of cafe - there are about 6,000 of them (40%). Next in popularity are canteens (16.9%), restaurants (14.9%) and fast food (12.4%). Least of all catering points in stores (culinary department).\n",
    "2. The vast majority of non-chain catering establishments (81%).\n",
    "3. Chain establishments are most often cafes (47.0%), fast food (26.5%) and restaurants (18.3%).\n",
    "4. Network establishments also usually have a small number of seats.\n",
    "5. The largest number of seats is at canteens, on average 130, while the spread is significant. Restaurants also have a lot of seats - an average of 93.\n",
    "6. The largest number of catering establishments on the streets are Mira Avenue, Profsoyuznaya Street, Leningradsky Avenue, Presnenskaya Embankment, Varshavskoye Highway, Leninsky Avenue, Vernadsky Avenue, Kutuzovsky Avenue, Kashirskoye Highway and Kirovogradskaya Street.\n",
    "7. There are 796 streets in Moscow with one catering establishment. Most of these streets are in the Tver, Presnensky, Tagansky districts."
   ]
  },
  {
   "cell_type": "markdown",
   "metadata": {},
   "source": [
    "# Recommendations for an investment project\n",
    "\n",
    "1. As a type of establishment, you should choose a cafe, as this is the most popular and common type of catering.\n",
    "2. The location of the institution should be in the center (CAO) and in places with high traffic.\n",
    "3. The number of seats is better to choose from 43 to 50 seats, as the most popular and convenient medium format."
   ]
  }
 ],
 "metadata": {
  "ExecuteTimeLog": [
   {
    "duration": 1423,
    "start_time": "2022-06-05T07:37:40.746Z"
   },
   {
    "duration": 157,
    "start_time": "2022-06-05T07:38:20.034Z"
   },
   {
    "duration": 95,
    "start_time": "2022-06-05T07:38:31.379Z"
   },
   {
    "duration": 15,
    "start_time": "2022-06-05T07:38:44.218Z"
   },
   {
    "duration": 10,
    "start_time": "2022-06-05T07:44:39.419Z"
   },
   {
    "duration": 19,
    "start_time": "2022-06-05T07:44:51.508Z"
   },
   {
    "duration": 15,
    "start_time": "2022-06-05T07:45:08.592Z"
   },
   {
    "duration": 25,
    "start_time": "2022-06-05T07:45:21.580Z"
   },
   {
    "duration": 6,
    "start_time": "2022-06-05T07:46:05.778Z"
   },
   {
    "duration": 26,
    "start_time": "2022-06-05T07:46:43.360Z"
   },
   {
    "duration": 1262,
    "start_time": "2022-06-05T10:30:45.582Z"
   },
   {
    "duration": 120,
    "start_time": "2022-06-05T10:30:46.846Z"
   },
   {
    "duration": 17,
    "start_time": "2022-06-05T10:30:46.968Z"
   },
   {
    "duration": 10,
    "start_time": "2022-06-05T10:30:46.990Z"
   },
   {
    "duration": 24,
    "start_time": "2022-06-05T10:30:47.003Z"
   },
   {
    "duration": 27,
    "start_time": "2022-06-05T10:30:47.030Z"
   },
   {
    "duration": 33,
    "start_time": "2022-06-05T10:30:47.059Z"
   },
   {
    "duration": 31,
    "start_time": "2022-06-05T10:30:47.095Z"
   },
   {
    "duration": 184,
    "start_time": "2022-06-05T10:32:05.976Z"
   },
   {
    "duration": 236,
    "start_time": "2022-06-05T10:32:34.439Z"
   },
   {
    "duration": 287,
    "start_time": "2022-06-05T10:32:53.177Z"
   },
   {
    "duration": 10,
    "start_time": "2022-06-05T10:33:24.811Z"
   },
   {
    "duration": 21,
    "start_time": "2022-06-05T10:33:57.682Z"
   },
   {
    "duration": 19,
    "start_time": "2022-06-05T10:35:50.219Z"
   },
   {
    "duration": 35,
    "start_time": "2022-06-05T10:36:15.206Z"
   },
   {
    "duration": 20,
    "start_time": "2022-06-05T10:36:47.356Z"
   },
   {
    "duration": 30,
    "start_time": "2022-06-05T10:38:05.901Z"
   },
   {
    "duration": 25,
    "start_time": "2022-06-05T10:38:24.235Z"
   },
   {
    "duration": 37,
    "start_time": "2022-06-05T10:39:00.180Z"
   },
   {
    "duration": 622,
    "start_time": "2022-06-05T10:39:16.357Z"
   },
   {
    "duration": 760,
    "start_time": "2022-06-05T10:39:31.722Z"
   },
   {
    "duration": 27,
    "start_time": "2022-06-05T10:39:43.689Z"
   },
   {
    "duration": 15,
    "start_time": "2022-06-05T10:39:50.758Z"
   },
   {
    "duration": 1232,
    "start_time": "2022-06-05T10:40:24.035Z"
   },
   {
    "duration": 30,
    "start_time": "2022-06-05T10:40:38.685Z"
   },
   {
    "duration": 21,
    "start_time": "2022-06-05T10:40:45.951Z"
   },
   {
    "duration": 31,
    "start_time": "2022-06-05T10:41:04.911Z"
   },
   {
    "duration": 27,
    "start_time": "2022-06-05T10:41:10.528Z"
   },
   {
    "duration": 22,
    "start_time": "2022-06-05T10:41:37.458Z"
   },
   {
    "duration": 257,
    "start_time": "2022-06-05T10:42:45.146Z"
   },
   {
    "duration": 288,
    "start_time": "2022-06-05T10:44:56.018Z"
   },
   {
    "duration": 229,
    "start_time": "2022-06-05T10:46:37.699Z"
   },
   {
    "duration": 245,
    "start_time": "2022-06-05T10:46:45.177Z"
   },
   {
    "duration": 239,
    "start_time": "2022-06-05T10:47:25.723Z"
   },
   {
    "duration": 262,
    "start_time": "2022-06-05T10:47:31.984Z"
   },
   {
    "duration": 237,
    "start_time": "2022-06-05T10:48:09.960Z"
   },
   {
    "duration": 8,
    "start_time": "2022-06-05T10:49:40.482Z"
   },
   {
    "duration": 11,
    "start_time": "2022-06-05T10:49:56.866Z"
   },
   {
    "duration": 11,
    "start_time": "2022-06-05T10:50:13.263Z"
   },
   {
    "duration": 12,
    "start_time": "2022-06-05T10:50:26.879Z"
   },
   {
    "duration": 15,
    "start_time": "2022-06-05T10:50:37.929Z"
   },
   {
    "duration": 91,
    "start_time": "2022-06-05T10:52:06.812Z"
   },
   {
    "duration": 18,
    "start_time": "2022-06-05T10:53:31.807Z"
   },
   {
    "duration": 137,
    "start_time": "2022-06-05T10:55:47.183Z"
   },
   {
    "duration": 37,
    "start_time": "2022-06-05T10:58:06.442Z"
   },
   {
    "duration": 39,
    "start_time": "2022-06-05T10:58:22.622Z"
   },
   {
    "duration": 500,
    "start_time": "2022-06-05T10:58:45.765Z"
   },
   {
    "duration": 20,
    "start_time": "2022-06-05T10:59:00.919Z"
   },
   {
    "duration": 163,
    "start_time": "2022-06-05T10:59:23.353Z"
   },
   {
    "duration": 10,
    "start_time": "2022-06-05T11:01:19.584Z"
   },
   {
    "duration": 18,
    "start_time": "2022-06-05T11:01:30.117Z"
   },
   {
    "duration": 17,
    "start_time": "2022-06-05T11:01:42.004Z"
   },
   {
    "duration": 277,
    "start_time": "2022-06-05T11:01:54.289Z"
   },
   {
    "duration": 204,
    "start_time": "2022-06-05T11:02:05.033Z"
   },
   {
    "duration": 185,
    "start_time": "2022-06-05T11:02:15.406Z"
   },
   {
    "duration": 211,
    "start_time": "2022-06-05T11:03:23.900Z"
   },
   {
    "duration": 221,
    "start_time": "2022-06-05T11:03:34.119Z"
   },
   {
    "duration": 223,
    "start_time": "2022-06-05T11:03:40.689Z"
   },
   {
    "duration": 190,
    "start_time": "2022-06-05T11:03:47.437Z"
   },
   {
    "duration": 175,
    "start_time": "2022-06-05T11:03:55.112Z"
   },
   {
    "duration": 128,
    "start_time": "2022-06-05T11:08:11.014Z"
   },
   {
    "duration": 168,
    "start_time": "2022-06-05T11:09:01.714Z"
   },
   {
    "duration": 237,
    "start_time": "2022-06-05T11:09:09.485Z"
   },
   {
    "duration": 32,
    "start_time": "2022-06-05T11:09:58.845Z"
   },
   {
    "duration": 1358,
    "start_time": "2022-06-05T11:10:13.206Z"
   },
   {
    "duration": 115,
    "start_time": "2022-06-05T11:10:14.566Z"
   },
   {
    "duration": 24,
    "start_time": "2022-06-05T11:10:14.683Z"
   },
   {
    "duration": 39,
    "start_time": "2022-06-05T11:10:14.709Z"
   },
   {
    "duration": 25,
    "start_time": "2022-06-05T11:10:14.752Z"
   },
   {
    "duration": 42,
    "start_time": "2022-06-05T11:10:14.779Z"
   },
   {
    "duration": 24,
    "start_time": "2022-06-05T11:10:14.823Z"
   },
   {
    "duration": 26,
    "start_time": "2022-06-05T11:10:14.849Z"
   },
   {
    "duration": 32,
    "start_time": "2022-06-05T11:10:14.877Z"
   },
   {
    "duration": 35,
    "start_time": "2022-06-05T11:10:14.912Z"
   },
   {
    "duration": 279,
    "start_time": "2022-06-05T11:10:14.949Z"
   },
   {
    "duration": 7,
    "start_time": "2022-06-05T11:10:15.230Z"
   },
   {
    "duration": 187,
    "start_time": "2022-06-05T11:10:15.239Z"
   },
   {
    "duration": 19,
    "start_time": "2022-06-05T11:10:15.429Z"
   },
   {
    "duration": 228,
    "start_time": "2022-06-05T11:10:15.449Z"
   },
   {
    "duration": 34,
    "start_time": "2022-06-05T11:10:57.731Z"
   },
   {
    "duration": 144,
    "start_time": "2022-06-05T11:11:23.834Z"
   },
   {
    "duration": 38,
    "start_time": "2022-06-05T11:13:32.138Z"
   },
   {
    "duration": 32,
    "start_time": "2022-06-05T11:13:56.710Z"
   },
   {
    "duration": 46,
    "start_time": "2022-06-05T11:16:11.783Z"
   },
   {
    "duration": 19,
    "start_time": "2022-06-05T11:20:56.558Z"
   },
   {
    "duration": 18,
    "start_time": "2022-06-05T11:21:06.503Z"
   },
   {
    "duration": 19,
    "start_time": "2022-06-05T11:21:21.540Z"
   },
   {
    "duration": 19,
    "start_time": "2022-06-05T11:21:36.801Z"
   },
   {
    "duration": 1357,
    "start_time": "2022-06-05T11:22:15.217Z"
   },
   {
    "duration": 120,
    "start_time": "2022-06-05T11:22:16.576Z"
   },
   {
    "duration": 24,
    "start_time": "2022-06-05T11:22:16.700Z"
   },
   {
    "duration": 16,
    "start_time": "2022-06-05T11:22:16.727Z"
   },
   {
    "duration": 21,
    "start_time": "2022-06-05T11:22:16.744Z"
   },
   {
    "duration": 73,
    "start_time": "2022-06-05T11:22:16.767Z"
   },
   {
    "duration": 8,
    "start_time": "2022-06-05T11:22:16.842Z"
   },
   {
    "duration": 40,
    "start_time": "2022-06-05T11:22:16.852Z"
   },
   {
    "duration": 30,
    "start_time": "2022-06-05T11:22:16.894Z"
   },
   {
    "duration": 31,
    "start_time": "2022-06-05T11:22:16.928Z"
   },
   {
    "duration": 337,
    "start_time": "2022-06-05T11:22:16.961Z"
   },
   {
    "duration": 13,
    "start_time": "2022-06-05T11:22:17.300Z"
   },
   {
    "duration": 219,
    "start_time": "2022-06-05T11:22:17.315Z"
   },
   {
    "duration": 19,
    "start_time": "2022-06-05T11:22:17.536Z"
   },
   {
    "duration": 223,
    "start_time": "2022-06-05T11:22:17.556Z"
   },
   {
    "duration": 23,
    "start_time": "2022-06-05T11:22:36.814Z"
   },
   {
    "duration": 25,
    "start_time": "2022-06-05T11:24:14.809Z"
   },
   {
    "duration": 1473,
    "start_time": "2022-06-05T15:44:22.118Z"
   },
   {
    "duration": 291,
    "start_time": "2022-06-05T15:44:23.593Z"
   },
   {
    "duration": 19,
    "start_time": "2022-06-05T15:44:23.886Z"
   },
   {
    "duration": 11,
    "start_time": "2022-06-05T15:44:23.908Z"
   },
   {
    "duration": 26,
    "start_time": "2022-06-05T15:44:23.925Z"
   },
   {
    "duration": 64,
    "start_time": "2022-06-05T15:44:23.953Z"
   },
   {
    "duration": 5,
    "start_time": "2022-06-05T15:44:24.019Z"
   },
   {
    "duration": 19,
    "start_time": "2022-06-05T15:44:24.026Z"
   },
   {
    "duration": 16,
    "start_time": "2022-06-05T15:44:24.047Z"
   },
   {
    "duration": 29,
    "start_time": "2022-06-05T15:44:24.065Z"
   },
   {
    "duration": 307,
    "start_time": "2022-06-05T15:44:24.095Z"
   },
   {
    "duration": 25,
    "start_time": "2022-06-05T15:44:24.404Z"
   },
   {
    "duration": 97,
    "start_time": "2022-06-05T15:44:24.431Z"
   },
   {
    "duration": 24,
    "start_time": "2022-06-05T15:44:24.531Z"
   },
   {
    "duration": 212,
    "start_time": "2022-06-05T15:44:24.557Z"
   },
   {
    "duration": 16,
    "start_time": "2022-06-05T15:46:29.912Z"
   },
   {
    "duration": 108,
    "start_time": "2022-06-05T15:46:51.621Z"
   },
   {
    "duration": 14,
    "start_time": "2022-06-05T15:46:57.250Z"
   },
   {
    "duration": 16,
    "start_time": "2022-06-05T15:47:10.583Z"
   },
   {
    "duration": 27,
    "start_time": "2022-06-05T15:49:38.431Z"
   },
   {
    "duration": 20,
    "start_time": "2022-06-05T15:49:54.100Z"
   },
   {
    "duration": 45,
    "start_time": "2022-06-05T15:50:20.827Z"
   },
   {
    "duration": 43,
    "start_time": "2022-06-05T15:51:15.714Z"
   },
   {
    "duration": 7,
    "start_time": "2022-06-05T15:51:23.804Z"
   },
   {
    "duration": 24,
    "start_time": "2022-06-05T15:51:30.577Z"
   },
   {
    "duration": 20,
    "start_time": "2022-06-05T15:51:39.984Z"
   },
   {
    "duration": 21,
    "start_time": "2022-06-05T15:54:25.173Z"
   },
   {
    "duration": 7,
    "start_time": "2022-06-05T15:54:40.201Z"
   },
   {
    "duration": 37,
    "start_time": "2022-06-05T15:54:54.981Z"
   },
   {
    "duration": 8,
    "start_time": "2022-06-05T15:55:05.498Z"
   },
   {
    "duration": 7,
    "start_time": "2022-06-05T15:55:16.670Z"
   },
   {
    "duration": 9,
    "start_time": "2022-06-05T15:55:25.877Z"
   },
   {
    "duration": 1472,
    "start_time": "2022-06-05T15:56:06.574Z"
   },
   {
    "duration": 110,
    "start_time": "2022-06-05T15:56:08.049Z"
   },
   {
    "duration": 23,
    "start_time": "2022-06-05T15:56:08.161Z"
   },
   {
    "duration": 23,
    "start_time": "2022-06-05T15:56:08.186Z"
   },
   {
    "duration": 56,
    "start_time": "2022-06-05T15:56:08.212Z"
   },
   {
    "duration": 35,
    "start_time": "2022-06-05T15:56:08.271Z"
   },
   {
    "duration": 33,
    "start_time": "2022-06-05T15:56:08.308Z"
   },
   {
    "duration": 41,
    "start_time": "2022-06-05T15:56:08.343Z"
   },
   {
    "duration": 35,
    "start_time": "2022-06-05T15:56:08.387Z"
   },
   {
    "duration": 36,
    "start_time": "2022-06-05T15:56:08.424Z"
   },
   {
    "duration": 285,
    "start_time": "2022-06-05T15:56:08.461Z"
   },
   {
    "duration": 10,
    "start_time": "2022-06-05T15:56:08.748Z"
   },
   {
    "duration": 222,
    "start_time": "2022-06-05T15:56:08.760Z"
   },
   {
    "duration": 25,
    "start_time": "2022-06-05T15:56:08.985Z"
   },
   {
    "duration": 271,
    "start_time": "2022-06-05T15:56:09.026Z"
   },
   {
    "duration": 26,
    "start_time": "2022-06-05T15:56:09.300Z"
   },
   {
    "duration": 114,
    "start_time": "2022-06-05T15:56:09.328Z"
   },
   {
    "duration": 64,
    "start_time": "2022-06-05T15:56:09.452Z"
   },
   {
    "duration": 776,
    "start_time": "2022-06-05T15:58:32.574Z"
   },
   {
    "duration": 18,
    "start_time": "2022-06-05T15:58:46.685Z"
   },
   {
    "duration": 422,
    "start_time": "2022-06-05T15:58:50.783Z"
   },
   {
    "duration": 6,
    "start_time": "2022-06-05T15:59:03.382Z"
   },
   {
    "duration": 5,
    "start_time": "2022-06-05T15:59:25.187Z"
   },
   {
    "duration": 7,
    "start_time": "2022-06-05T15:59:52.220Z"
   },
   {
    "duration": 7,
    "start_time": "2022-06-05T16:00:04.402Z"
   },
   {
    "duration": 12,
    "start_time": "2022-06-05T16:00:52.530Z"
   },
   {
    "duration": 200,
    "start_time": "2022-06-05T16:02:52.771Z"
   },
   {
    "duration": 12,
    "start_time": "2022-06-05T16:03:11.286Z"
   },
   {
    "duration": 185,
    "start_time": "2022-06-05T16:03:22.038Z"
   },
   {
    "duration": 211,
    "start_time": "2022-06-05T16:04:35.471Z"
   },
   {
    "duration": 355,
    "start_time": "2022-06-05T16:05:28.503Z"
   },
   {
    "duration": 19,
    "start_time": "2022-06-05T17:29:58.488Z"
   },
   {
    "duration": 138,
    "start_time": "2022-06-05T17:32:23.402Z"
   },
   {
    "duration": 124,
    "start_time": "2022-06-05T17:32:40.910Z"
   },
   {
    "duration": 132,
    "start_time": "2022-06-05T17:33:11.643Z"
   },
   {
    "duration": 138,
    "start_time": "2022-06-05T17:33:28.633Z"
   },
   {
    "duration": 161,
    "start_time": "2022-06-05T17:34:04.386Z"
   },
   {
    "duration": 140,
    "start_time": "2022-06-05T17:34:29.129Z"
   },
   {
    "duration": 275,
    "start_time": "2022-06-05T17:35:48.438Z"
   },
   {
    "duration": 174,
    "start_time": "2022-06-05T17:36:11.348Z"
   },
   {
    "duration": 39,
    "start_time": "2022-06-05T17:36:23.048Z"
   },
   {
    "duration": 205,
    "start_time": "2022-06-05T17:36:30.641Z"
   },
   {
    "duration": 200,
    "start_time": "2022-06-05T17:36:56.855Z"
   },
   {
    "duration": 216,
    "start_time": "2022-06-05T17:37:25.293Z"
   },
   {
    "duration": 20,
    "start_time": "2022-06-05T17:40:18.039Z"
   },
   {
    "duration": 20,
    "start_time": "2022-06-05T17:40:28.390Z"
   },
   {
    "duration": 34,
    "start_time": "2022-06-05T17:41:42.428Z"
   },
   {
    "duration": 257,
    "start_time": "2022-06-05T17:42:23.943Z"
   },
   {
    "duration": 108,
    "start_time": "2022-06-05T17:44:09.122Z"
   },
   {
    "duration": 12,
    "start_time": "2022-06-05T17:44:21.385Z"
   },
   {
    "duration": 1574,
    "start_time": "2022-06-05T17:44:29.224Z"
   },
   {
    "duration": 838,
    "start_time": "2022-06-05T17:44:38.650Z"
   },
   {
    "duration": 27,
    "start_time": "2022-06-05T17:46:04.124Z"
   },
   {
    "duration": 23,
    "start_time": "2022-06-05T17:46:15.620Z"
   },
   {
    "duration": 20,
    "start_time": "2022-06-05T17:46:29.421Z"
   },
   {
    "duration": 16,
    "start_time": "2022-06-05T17:47:17.479Z"
   },
   {
    "duration": 15,
    "start_time": "2022-06-05T17:47:24.071Z"
   },
   {
    "duration": 22,
    "start_time": "2022-06-05T17:47:32.119Z"
   },
   {
    "duration": 18,
    "start_time": "2022-06-05T17:47:43.096Z"
   },
   {
    "duration": 17,
    "start_time": "2022-06-05T17:47:51.443Z"
   },
   {
    "duration": 21,
    "start_time": "2022-06-05T17:49:46.546Z"
   },
   {
    "duration": 11,
    "start_time": "2022-06-05T17:50:02.947Z"
   },
   {
    "duration": 13,
    "start_time": "2022-06-05T17:54:04.483Z"
   },
   {
    "duration": 11,
    "start_time": "2022-06-05T17:54:48.356Z"
   },
   {
    "duration": 17,
    "start_time": "2022-06-05T17:55:19.800Z"
   },
   {
    "duration": 13,
    "start_time": "2022-06-05T17:58:49.064Z"
   },
   {
    "duration": 16,
    "start_time": "2022-06-05T17:59:02.787Z"
   },
   {
    "duration": 13,
    "start_time": "2022-06-05T17:59:11.365Z"
   },
   {
    "duration": 189,
    "start_time": "2022-06-05T18:00:15.926Z"
   },
   {
    "duration": 241,
    "start_time": "2022-06-05T18:00:47.744Z"
   },
   {
    "duration": 1417,
    "start_time": "2022-06-06T08:37:09.154Z"
   },
   {
    "duration": 1416,
    "start_time": "2022-06-06T08:37:22.964Z"
   },
   {
    "duration": 137,
    "start_time": "2022-06-06T08:37:24.382Z"
   },
   {
    "duration": 16,
    "start_time": "2022-06-06T08:37:24.521Z"
   },
   {
    "duration": 8,
    "start_time": "2022-06-06T08:37:24.540Z"
   },
   {
    "duration": 21,
    "start_time": "2022-06-06T08:37:24.550Z"
   },
   {
    "duration": 34,
    "start_time": "2022-06-06T08:37:24.573Z"
   },
   {
    "duration": 5,
    "start_time": "2022-06-06T08:37:24.608Z"
   },
   {
    "duration": 18,
    "start_time": "2022-06-06T08:37:24.615Z"
   },
   {
    "duration": 16,
    "start_time": "2022-06-06T08:37:24.635Z"
   },
   {
    "duration": 48,
    "start_time": "2022-06-06T08:37:24.653Z"
   },
   {
    "duration": 247,
    "start_time": "2022-06-06T08:37:24.703Z"
   },
   {
    "duration": 7,
    "start_time": "2022-06-06T08:37:24.952Z"
   },
   {
    "duration": 164,
    "start_time": "2022-06-06T08:37:24.960Z"
   },
   {
    "duration": 18,
    "start_time": "2022-06-06T08:37:25.126Z"
   },
   {
    "duration": 199,
    "start_time": "2022-06-06T08:37:25.146Z"
   },
   {
    "duration": 17,
    "start_time": "2022-06-06T08:37:25.346Z"
   },
   {
    "duration": 424,
    "start_time": "2022-06-06T08:37:25.365Z"
   },
   {
    "duration": 8,
    "start_time": "2022-06-06T08:37:25.791Z"
   },
   {
    "duration": 22,
    "start_time": "2022-06-06T08:37:25.800Z"
   },
   {
    "duration": 8,
    "start_time": "2022-06-06T08:37:25.824Z"
   },
   {
    "duration": 23,
    "start_time": "2022-06-06T08:37:25.834Z"
   },
   {
    "duration": 203,
    "start_time": "2022-06-06T08:37:25.858Z"
   },
   {
    "duration": 192,
    "start_time": "2022-06-06T08:37:26.063Z"
   },
   {
    "duration": 19,
    "start_time": "2022-06-06T08:37:26.257Z"
   },
   {
    "duration": 18,
    "start_time": "2022-06-06T08:37:26.289Z"
   },
   {
    "duration": 21,
    "start_time": "2022-06-06T08:37:26.308Z"
   },
   {
    "duration": 252,
    "start_time": "2022-06-06T08:37:26.331Z"
   },
   {
    "duration": 1100,
    "start_time": "2022-06-06T08:37:26.589Z"
   },
   {
    "duration": 16,
    "start_time": "2022-06-06T08:37:27.691Z"
   },
   {
    "duration": 24,
    "start_time": "2022-06-06T08:37:27.708Z"
   },
   {
    "duration": 7,
    "start_time": "2022-06-06T08:42:38.691Z"
   },
   {
    "duration": 135,
    "start_time": "2022-06-06T08:44:45.356Z"
   },
   {
    "duration": 1491,
    "start_time": "2022-06-06T08:44:55.626Z"
   },
   {
    "duration": 921,
    "start_time": "2022-06-06T08:46:18.318Z"
   },
   {
    "duration": 1029,
    "start_time": "2022-06-06T08:46:27.988Z"
   },
   {
    "duration": 20,
    "start_time": "2022-06-06T08:47:24.080Z"
   },
   {
    "duration": 10,
    "start_time": "2022-06-06T08:47:47.980Z"
   },
   {
    "duration": 224,
    "start_time": "2022-06-06T08:48:47.500Z"
   },
   {
    "duration": 196,
    "start_time": "2022-06-06T08:50:04.051Z"
   },
   {
    "duration": 213,
    "start_time": "2022-06-06T08:50:37.550Z"
   },
   {
    "duration": 203,
    "start_time": "2022-06-06T08:50:51.202Z"
   },
   {
    "duration": 289,
    "start_time": "2022-06-06T08:50:57.197Z"
   },
   {
    "duration": 210,
    "start_time": "2022-06-06T08:51:03.059Z"
   },
   {
    "duration": 198,
    "start_time": "2022-06-06T08:51:34.576Z"
   },
   {
    "duration": 134,
    "start_time": "2022-06-06T08:51:40.604Z"
   },
   {
    "duration": 194,
    "start_time": "2022-06-06T08:51:51.552Z"
   },
   {
    "duration": 128,
    "start_time": "2022-06-06T08:52:21.556Z"
   },
   {
    "duration": 193,
    "start_time": "2022-06-06T08:52:29.047Z"
   },
   {
    "duration": 191,
    "start_time": "2022-06-06T08:52:36.658Z"
   },
   {
    "duration": 186,
    "start_time": "2022-06-06T08:52:46.357Z"
   },
   {
    "duration": 1476,
    "start_time": "2022-06-11T09:57:55.668Z"
   },
   {
    "duration": 615,
    "start_time": "2022-06-11T09:57:57.146Z"
   },
   {
    "duration": 15,
    "start_time": "2022-06-11T09:57:57.763Z"
   },
   {
    "duration": 60,
    "start_time": "2022-06-11T09:57:57.779Z"
   },
   {
    "duration": 22,
    "start_time": "2022-06-11T09:57:57.841Z"
   },
   {
    "duration": 22,
    "start_time": "2022-06-11T09:57:57.865Z"
   },
   {
    "duration": 12,
    "start_time": "2022-06-11T09:57:57.889Z"
   },
   {
    "duration": 44,
    "start_time": "2022-06-11T09:57:57.903Z"
   },
   {
    "duration": 16,
    "start_time": "2022-06-11T09:57:57.949Z"
   },
   {
    "duration": 22,
    "start_time": "2022-06-11T09:57:57.968Z"
   },
   {
    "duration": 237,
    "start_time": "2022-06-11T09:57:57.992Z"
   },
   {
    "duration": 7,
    "start_time": "2022-06-11T09:57:58.231Z"
   },
   {
    "duration": 101,
    "start_time": "2022-06-11T09:57:58.240Z"
   },
   {
    "duration": 21,
    "start_time": "2022-06-11T09:57:58.343Z"
   },
   {
    "duration": 201,
    "start_time": "2022-06-11T09:57:58.366Z"
   },
   {
    "duration": 38,
    "start_time": "2022-06-11T09:57:58.569Z"
   },
   {
    "duration": 446,
    "start_time": "2022-06-11T09:57:58.609Z"
   },
   {
    "duration": 8,
    "start_time": "2022-06-11T09:57:59.058Z"
   },
   {
    "duration": 33,
    "start_time": "2022-06-11T09:57:59.068Z"
   },
   {
    "duration": 39,
    "start_time": "2022-06-11T09:57:59.108Z"
   },
   {
    "duration": 33,
    "start_time": "2022-06-11T09:57:59.149Z"
   },
   {
    "duration": 234,
    "start_time": "2022-06-11T09:57:59.184Z"
   },
   {
    "duration": 208,
    "start_time": "2022-06-11T09:57:59.419Z"
   },
   {
    "duration": 16,
    "start_time": "2022-06-11T09:57:59.632Z"
   },
   {
    "duration": 23,
    "start_time": "2022-06-11T09:57:59.650Z"
   },
   {
    "duration": 22,
    "start_time": "2022-06-11T09:57:59.674Z"
   },
   {
    "duration": 239,
    "start_time": "2022-06-11T09:57:59.698Z"
   },
   {
    "duration": 6,
    "start_time": "2022-06-11T09:57:59.941Z"
   },
   {
    "duration": 1304,
    "start_time": "2022-06-11T09:57:59.949Z"
   },
   {
    "duration": 20,
    "start_time": "2022-06-11T09:58:01.255Z"
   },
   {
    "duration": 19,
    "start_time": "2022-06-11T09:58:01.277Z"
   },
   {
    "duration": 336,
    "start_time": "2022-06-11T09:58:01.298Z"
   },
   {
    "duration": 21,
    "start_time": "2022-06-11T10:13:08.825Z"
   },
   {
    "duration": 18,
    "start_time": "2022-06-11T10:15:55.450Z"
   },
   {
    "duration": 1149,
    "start_time": "2022-06-11T10:50:36.444Z"
   },
   {
    "duration": 77,
    "start_time": "2022-06-11T10:50:37.599Z"
   },
   {
    "duration": 14,
    "start_time": "2022-06-11T10:50:37.678Z"
   },
   {
    "duration": 28,
    "start_time": "2022-06-11T10:50:37.699Z"
   },
   {
    "duration": 17,
    "start_time": "2022-06-11T10:50:37.729Z"
   },
   {
    "duration": 21,
    "start_time": "2022-06-11T10:50:37.748Z"
   },
   {
    "duration": 5,
    "start_time": "2022-06-11T10:50:37.770Z"
   },
   {
    "duration": 29,
    "start_time": "2022-06-11T10:50:37.777Z"
   },
   {
    "duration": 15,
    "start_time": "2022-06-11T10:50:37.807Z"
   },
   {
    "duration": 20,
    "start_time": "2022-06-11T10:50:37.825Z"
   },
   {
    "duration": 225,
    "start_time": "2022-06-11T10:50:37.847Z"
   },
   {
    "duration": 6,
    "start_time": "2022-06-11T10:50:38.074Z"
   },
   {
    "duration": 92,
    "start_time": "2022-06-11T10:50:38.082Z"
   },
   {
    "duration": 35,
    "start_time": "2022-06-11T10:50:38.177Z"
   },
   {
    "duration": 164,
    "start_time": "2022-06-11T10:50:38.214Z"
   },
   {
    "duration": 26,
    "start_time": "2022-06-11T10:50:38.379Z"
   },
   {
    "duration": 330,
    "start_time": "2022-06-11T10:50:38.406Z"
   },
   {
    "duration": 6,
    "start_time": "2022-06-11T10:50:38.738Z"
   },
   {
    "duration": 27,
    "start_time": "2022-06-11T10:50:38.746Z"
   },
   {
    "duration": 5,
    "start_time": "2022-06-11T10:50:38.775Z"
   },
   {
    "duration": 49,
    "start_time": "2022-06-11T10:50:38.782Z"
   },
   {
    "duration": 232,
    "start_time": "2022-06-11T10:50:38.833Z"
   },
   {
    "duration": 231,
    "start_time": "2022-06-11T10:50:39.067Z"
   },
   {
    "duration": 19,
    "start_time": "2022-06-11T10:50:39.300Z"
   },
   {
    "duration": 15,
    "start_time": "2022-06-11T10:50:39.321Z"
   },
   {
    "duration": 20,
    "start_time": "2022-06-11T10:50:39.338Z"
   },
   {
    "duration": 221,
    "start_time": "2022-06-11T10:50:39.360Z"
   },
   {
    "duration": 12,
    "start_time": "2022-06-11T10:50:39.585Z"
   },
   {
    "duration": 1179,
    "start_time": "2022-06-11T10:50:39.604Z"
   },
   {
    "duration": 26,
    "start_time": "2022-06-11T10:50:40.785Z"
   },
   {
    "duration": 8,
    "start_time": "2022-06-11T10:50:40.813Z"
   },
   {
    "duration": 282,
    "start_time": "2022-06-11T10:50:40.823Z"
   },
   {
    "duration": 1204,
    "start_time": "2022-06-14T07:28:35.993Z"
   },
   {
    "duration": 120,
    "start_time": "2022-06-14T07:28:37.200Z"
   },
   {
    "duration": 17,
    "start_time": "2022-06-14T07:28:37.322Z"
   },
   {
    "duration": 11,
    "start_time": "2022-06-14T07:28:37.341Z"
   },
   {
    "duration": 19,
    "start_time": "2022-06-14T07:28:37.353Z"
   },
   {
    "duration": 22,
    "start_time": "2022-06-14T07:28:37.374Z"
   },
   {
    "duration": 4,
    "start_time": "2022-06-14T07:28:37.398Z"
   },
   {
    "duration": 15,
    "start_time": "2022-06-14T07:28:37.403Z"
   },
   {
    "duration": 12,
    "start_time": "2022-06-14T07:28:37.420Z"
   },
   {
    "duration": 24,
    "start_time": "2022-06-14T07:28:37.435Z"
   },
   {
    "duration": 217,
    "start_time": "2022-06-14T07:28:37.460Z"
   },
   {
    "duration": 6,
    "start_time": "2022-06-14T07:28:37.678Z"
   },
   {
    "duration": 59,
    "start_time": "2022-06-14T07:28:37.691Z"
   },
   {
    "duration": 15,
    "start_time": "2022-06-14T07:28:37.751Z"
   },
   {
    "duration": 148,
    "start_time": "2022-06-14T07:28:37.768Z"
   },
   {
    "duration": 13,
    "start_time": "2022-06-14T07:28:37.917Z"
   },
   {
    "duration": 310,
    "start_time": "2022-06-14T07:28:37.931Z"
   },
   {
    "duration": 6,
    "start_time": "2022-06-14T07:28:38.243Z"
   },
   {
    "duration": 17,
    "start_time": "2022-06-14T07:28:38.250Z"
   },
   {
    "duration": 5,
    "start_time": "2022-06-14T07:28:38.269Z"
   },
   {
    "duration": 16,
    "start_time": "2022-06-14T07:28:38.291Z"
   },
   {
    "duration": 154,
    "start_time": "2022-06-14T07:28:38.308Z"
   },
   {
    "duration": 151,
    "start_time": "2022-06-14T07:28:38.463Z"
   },
   {
    "duration": 11,
    "start_time": "2022-06-14T07:28:38.616Z"
   },
   {
    "duration": 17,
    "start_time": "2022-06-14T07:28:38.629Z"
   },
   {
    "duration": 14,
    "start_time": "2022-06-14T07:28:38.647Z"
   },
   {
    "duration": 179,
    "start_time": "2022-06-14T07:28:38.663Z"
   },
   {
    "duration": 5,
    "start_time": "2022-06-14T07:28:38.845Z"
   },
   {
    "duration": 1114,
    "start_time": "2022-06-14T07:28:38.851Z"
   },
   {
    "duration": 18,
    "start_time": "2022-06-14T07:28:39.967Z"
   },
   {
    "duration": 8,
    "start_time": "2022-06-14T07:28:39.987Z"
   },
   {
    "duration": 231,
    "start_time": "2022-06-14T07:28:39.997Z"
   },
   {
    "duration": 159,
    "start_time": "2022-06-14T07:29:09.870Z"
   },
   {
    "duration": 149,
    "start_time": "2022-06-14T07:29:39.732Z"
   },
   {
    "duration": 164,
    "start_time": "2022-06-14T07:29:47.055Z"
   },
   {
    "duration": 103,
    "start_time": "2022-06-14T07:42:31.089Z"
   },
   {
    "duration": 171,
    "start_time": "2022-06-14T07:42:50.039Z"
   },
   {
    "duration": 190,
    "start_time": "2022-06-14T07:51:29.258Z"
   },
   {
    "duration": 150,
    "start_time": "2022-06-14T07:51:37.511Z"
   },
   {
    "duration": 122,
    "start_time": "2022-06-14T07:55:26.712Z"
   },
   {
    "duration": 126,
    "start_time": "2022-06-14T07:55:37.803Z"
   },
   {
    "duration": 126,
    "start_time": "2022-06-14T07:55:48.521Z"
   },
   {
    "duration": 149,
    "start_time": "2022-06-14T07:57:07.442Z"
   },
   {
    "duration": 240,
    "start_time": "2022-06-14T07:57:23.447Z"
   },
   {
    "duration": 140,
    "start_time": "2022-06-14T07:58:58.372Z"
   },
   {
    "duration": 145,
    "start_time": "2022-06-14T07:59:06.185Z"
   },
   {
    "duration": 155,
    "start_time": "2022-06-14T07:59:31.405Z"
   },
   {
    "duration": 48,
    "start_time": "2022-06-14T08:01:47.758Z"
   },
   {
    "duration": 132,
    "start_time": "2022-06-14T08:02:05.076Z"
   },
   {
    "duration": 166,
    "start_time": "2022-06-14T08:03:06.818Z"
   },
   {
    "duration": 8,
    "start_time": "2022-06-14T08:04:47.954Z"
   },
   {
    "duration": 161,
    "start_time": "2022-06-14T08:04:54.998Z"
   },
   {
    "duration": 166,
    "start_time": "2022-06-14T08:05:20.470Z"
   },
   {
    "duration": 147,
    "start_time": "2022-06-14T08:05:27.951Z"
   },
   {
    "duration": 44,
    "start_time": "2022-06-15T07:32:08.121Z"
   },
   {
    "duration": 6,
    "start_time": "2022-06-15T07:34:55.099Z"
   },
   {
    "duration": 1164,
    "start_time": "2022-06-15T07:35:04.685Z"
   },
   {
    "duration": 121,
    "start_time": "2022-06-15T07:35:05.851Z"
   },
   {
    "duration": 12,
    "start_time": "2022-06-15T07:35:05.974Z"
   },
   {
    "duration": 10,
    "start_time": "2022-06-15T07:35:05.987Z"
   },
   {
    "duration": 18,
    "start_time": "2022-06-15T07:35:05.999Z"
   },
   {
    "duration": 19,
    "start_time": "2022-06-15T07:35:06.018Z"
   },
   {
    "duration": 4,
    "start_time": "2022-06-15T07:35:06.039Z"
   },
   {
    "duration": 17,
    "start_time": "2022-06-15T07:35:06.044Z"
   },
   {
    "duration": 14,
    "start_time": "2022-06-15T07:35:06.062Z"
   },
   {
    "duration": 19,
    "start_time": "2022-06-15T07:35:06.078Z"
   },
   {
    "duration": 195,
    "start_time": "2022-06-15T07:35:06.098Z"
   },
   {
    "duration": 7,
    "start_time": "2022-06-15T07:35:06.294Z"
   },
   {
    "duration": 70,
    "start_time": "2022-06-15T07:35:06.303Z"
   },
   {
    "duration": 16,
    "start_time": "2022-06-15T07:35:06.375Z"
   },
   {
    "duration": 170,
    "start_time": "2022-06-15T07:35:06.392Z"
   },
   {
    "duration": 22,
    "start_time": "2022-06-15T07:35:06.565Z"
   },
   {
    "duration": 152,
    "start_time": "2022-06-15T07:35:06.589Z"
   },
   {
    "duration": 0,
    "start_time": "2022-06-15T07:35:06.743Z"
   },
   {
    "duration": 0,
    "start_time": "2022-06-15T07:35:06.745Z"
   },
   {
    "duration": 0,
    "start_time": "2022-06-15T07:35:06.746Z"
   },
   {
    "duration": 0,
    "start_time": "2022-06-15T07:35:06.748Z"
   },
   {
    "duration": 0,
    "start_time": "2022-06-15T07:35:06.750Z"
   },
   {
    "duration": 0,
    "start_time": "2022-06-15T07:35:06.751Z"
   },
   {
    "duration": 0,
    "start_time": "2022-06-15T07:35:06.752Z"
   },
   {
    "duration": 0,
    "start_time": "2022-06-15T07:35:06.754Z"
   },
   {
    "duration": 0,
    "start_time": "2022-06-15T07:35:06.755Z"
   },
   {
    "duration": 0,
    "start_time": "2022-06-15T07:35:06.757Z"
   },
   {
    "duration": 0,
    "start_time": "2022-06-15T07:35:06.759Z"
   },
   {
    "duration": 0,
    "start_time": "2022-06-15T07:35:06.760Z"
   },
   {
    "duration": 0,
    "start_time": "2022-06-15T07:35:06.762Z"
   },
   {
    "duration": 0,
    "start_time": "2022-06-15T07:35:06.766Z"
   },
   {
    "duration": 0,
    "start_time": "2022-06-15T07:35:06.767Z"
   },
   {
    "duration": 0,
    "start_time": "2022-06-15T07:35:06.769Z"
   },
   {
    "duration": 162,
    "start_time": "2022-06-15T07:35:43.506Z"
   },
   {
    "duration": 148,
    "start_time": "2022-06-15T07:36:12.841Z"
   },
   {
    "duration": 136,
    "start_time": "2022-06-15T07:41:51.181Z"
   },
   {
    "duration": 150,
    "start_time": "2022-06-15T07:42:05.342Z"
   },
   {
    "duration": 142,
    "start_time": "2022-06-15T07:43:15.850Z"
   },
   {
    "duration": 21,
    "start_time": "2022-06-15T07:44:16.604Z"
   },
   {
    "duration": 196,
    "start_time": "2022-06-15T07:44:25.456Z"
   },
   {
    "duration": 130,
    "start_time": "2022-06-15T07:44:43.571Z"
   },
   {
    "duration": 1092,
    "start_time": "2022-06-15T07:45:14.409Z"
   },
   {
    "duration": 74,
    "start_time": "2022-06-15T07:45:15.504Z"
   },
   {
    "duration": 69,
    "start_time": "2022-06-15T07:45:15.579Z"
   },
   {
    "duration": 143,
    "start_time": "2022-06-15T07:45:15.650Z"
   },
   {
    "duration": 32,
    "start_time": "2022-06-15T07:45:15.796Z"
   },
   {
    "duration": 139,
    "start_time": "2022-06-15T07:45:15.830Z"
   },
   {
    "duration": 69,
    "start_time": "2022-06-15T07:45:15.970Z"
   },
   {
    "duration": 115,
    "start_time": "2022-06-15T07:45:16.041Z"
   },
   {
    "duration": 144,
    "start_time": "2022-06-15T07:45:16.158Z"
   },
   {
    "duration": 128,
    "start_time": "2022-06-15T07:45:16.304Z"
   },
   {
    "duration": 265,
    "start_time": "2022-06-15T07:45:16.435Z"
   },
   {
    "duration": 9,
    "start_time": "2022-06-15T07:45:16.702Z"
   },
   {
    "duration": 188,
    "start_time": "2022-06-15T07:45:16.713Z"
   },
   {
    "duration": 99,
    "start_time": "2022-06-15T07:45:16.905Z"
   },
   {
    "duration": 257,
    "start_time": "2022-06-15T07:45:17.006Z"
   },
   {
    "duration": 14,
    "start_time": "2022-06-15T07:45:17.265Z"
   },
   {
    "duration": 302,
    "start_time": "2022-06-15T07:45:17.281Z"
   },
   {
    "duration": 46,
    "start_time": "2022-06-15T07:45:17.585Z"
   },
   {
    "duration": 115,
    "start_time": "2022-06-15T07:45:17.634Z"
   },
   {
    "duration": 92,
    "start_time": "2022-06-15T07:45:17.751Z"
   },
   {
    "duration": 90,
    "start_time": "2022-06-15T07:45:17.844Z"
   },
   {
    "duration": 310,
    "start_time": "2022-06-15T07:45:17.935Z"
   },
   {
    "duration": 288,
    "start_time": "2022-06-15T07:45:18.247Z"
   },
   {
    "duration": 12,
    "start_time": "2022-06-15T07:45:18.537Z"
   },
   {
    "duration": 72,
    "start_time": "2022-06-15T07:45:18.551Z"
   },
   {
    "duration": 18,
    "start_time": "2022-06-15T07:45:18.625Z"
   },
   {
    "duration": 224,
    "start_time": "2022-06-15T07:45:18.645Z"
   },
   {
    "duration": 7,
    "start_time": "2022-06-15T07:45:18.871Z"
   },
   {
    "duration": 1214,
    "start_time": "2022-06-15T07:45:18.880Z"
   },
   {
    "duration": 17,
    "start_time": "2022-06-15T07:45:20.096Z"
   },
   {
    "duration": 112,
    "start_time": "2022-06-15T07:45:20.115Z"
   },
   {
    "duration": 384,
    "start_time": "2022-06-15T07:45:20.228Z"
   },
   {
    "duration": 14,
    "start_time": "2022-06-15T07:46:07.026Z"
   },
   {
    "duration": 139,
    "start_time": "2022-06-15T07:46:38.799Z"
   },
   {
    "duration": 361,
    "start_time": "2022-06-15T07:50:53.621Z"
   },
   {
    "duration": 113,
    "start_time": "2022-06-15T07:51:24.759Z"
   },
   {
    "duration": 20,
    "start_time": "2022-06-15T07:51:35.517Z"
   },
   {
    "duration": 284,
    "start_time": "2022-06-15T07:53:25.946Z"
   },
   {
    "duration": 282,
    "start_time": "2022-06-15T07:53:35.362Z"
   },
   {
    "duration": 334,
    "start_time": "2022-06-15T07:54:01.007Z"
   },
   {
    "duration": 299,
    "start_time": "2022-06-15T07:54:08.183Z"
   },
   {
    "duration": 304,
    "start_time": "2022-06-15T07:54:15.783Z"
   },
   {
    "duration": 283,
    "start_time": "2022-06-15T07:54:24.205Z"
   },
   {
    "duration": 288,
    "start_time": "2022-06-15T07:54:29.186Z"
   }
  ],
  "kernelspec": {
   "display_name": "Python 3 (ipykernel)",
   "language": "python",
   "name": "python3"
  },
  "language_info": {
   "codemirror_mode": {
    "name": "ipython",
    "version": 3
   },
   "file_extension": ".py",
   "mimetype": "text/x-python",
   "name": "python",
   "nbconvert_exporter": "python",
   "pygments_lexer": "ipython3",
   "version": "3.9.7"
  },
  "toc": {
   "base_numbering": 1,
   "nav_menu": {},
   "number_sections": true,
   "sideBar": true,
   "skip_h1_title": true,
   "title_cell": "Table of Contents",
   "title_sidebar": "Contents",
   "toc_cell": false,
   "toc_position": {},
   "toc_section_display": true,
   "toc_window_display": false
  }
 },
 "nbformat": 4,
 "nbformat_minor": 2
}
